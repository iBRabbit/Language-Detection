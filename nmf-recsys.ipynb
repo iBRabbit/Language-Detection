{
 "cells": [
  {
   "cell_type": "markdown",
   "id": "9c77cb2b",
   "metadata": {
    "papermill": {
     "duration": 0.015344,
     "end_time": "2023-09-11T03:32:04.018995",
     "exception": false,
     "start_time": "2023-09-11T03:32:04.003651",
     "status": "completed"
    },
    "tags": []
   },
   "source": [
    "# Importing Libraries"
   ]
  },
  {
   "cell_type": "code",
   "execution_count": 1,
   "id": "c3f5ecc4",
   "metadata": {
    "execution": {
     "iopub.execute_input": "2023-09-11T03:32:04.048432Z",
     "iopub.status.busy": "2023-09-11T03:32:04.047453Z",
     "iopub.status.idle": "2023-09-11T03:32:04.968776Z",
     "shell.execute_reply": "2023-09-11T03:32:04.967711Z"
    },
    "id": "ItfmQPbB0AAZ",
    "papermill": {
     "duration": 0.939492,
     "end_time": "2023-09-11T03:32:04.972033",
     "exception": false,
     "start_time": "2023-09-11T03:32:04.032541",
     "status": "completed"
    },
    "tags": []
   },
   "outputs": [],
   "source": [
    "import numpy as np  #importing numerical python library for mathematical functions\n",
    "import pandas as pd  #importing python data analysis library ?"
   ]
  },
  {
   "cell_type": "markdown",
   "id": "a481d978",
   "metadata": {
    "id": "wbqRIXgy0AAd",
    "papermill": {
     "duration": 0.013044,
     "end_time": "2023-09-11T03:32:04.998442",
     "exception": false,
     "start_time": "2023-09-11T03:32:04.985398",
     "status": "completed"
    },
    "tags": []
   },
   "source": [
    "# Importing Data"
   ]
  },
  {
   "cell_type": "code",
   "execution_count": 2,
   "id": "ac6fc684",
   "metadata": {
    "execution": {
     "iopub.execute_input": "2023-09-11T03:32:05.028773Z",
     "iopub.status.busy": "2023-09-11T03:32:05.027878Z",
     "iopub.status.idle": "2023-09-11T03:32:07.040273Z",
     "shell.execute_reply": "2023-09-11T03:32:07.038977Z"
    },
    "id": "penIotc80AAe",
    "outputId": "2789c82f-3062-4a22-d42d-ca271877e183",
    "papermill": {
     "duration": 2.030749,
     "end_time": "2023-09-11T03:32:07.043008",
     "exception": false,
     "start_time": "2023-09-11T03:32:05.012259",
     "status": "completed"
    },
    "tags": []
   },
   "outputs": [
    {
     "data": {
      "text/html": [
       "<div>\n",
       "<style scoped>\n",
       "    .dataframe tbody tr th:only-of-type {\n",
       "        vertical-align: middle;\n",
       "    }\n",
       "\n",
       "    .dataframe tbody tr th {\n",
       "        vertical-align: top;\n",
       "    }\n",
       "\n",
       "    .dataframe thead th {\n",
       "        text-align: right;\n",
       "    }\n",
       "</style>\n",
       "<table border=\"1\" class=\"dataframe\">\n",
       "  <thead>\n",
       "    <tr style=\"text-align: right;\">\n",
       "      <th></th>\n",
       "      <th>mbr_card</th>\n",
       "      <th>prod_code</th>\n",
       "      <th>transaction_value</th>\n",
       "    </tr>\n",
       "  </thead>\n",
       "  <tbody>\n",
       "    <tr>\n",
       "      <th>0</th>\n",
       "      <td>%004560450</td>\n",
       "      <td>0511892</td>\n",
       "      <td>494000.0</td>\n",
       "    </tr>\n",
       "    <tr>\n",
       "      <th>1</th>\n",
       "      <td>%004560450</td>\n",
       "      <td>0904139</td>\n",
       "      <td>40090.0</td>\n",
       "    </tr>\n",
       "    <tr>\n",
       "      <th>2</th>\n",
       "      <td>%004610940</td>\n",
       "      <td>0601795</td>\n",
       "      <td>56240.0</td>\n",
       "    </tr>\n",
       "    <tr>\n",
       "      <th>3</th>\n",
       "      <td>%050824440</td>\n",
       "      <td>0203241</td>\n",
       "      <td>30530.0</td>\n",
       "    </tr>\n",
       "    <tr>\n",
       "      <th>4</th>\n",
       "      <td>%050824440</td>\n",
       "      <td>0402853</td>\n",
       "      <td>27006.0</td>\n",
       "    </tr>\n",
       "    <tr>\n",
       "      <th>...</th>\n",
       "      <td>...</td>\n",
       "      <td>...</td>\n",
       "      <td>...</td>\n",
       "    </tr>\n",
       "    <tr>\n",
       "      <th>2020119</th>\n",
       "      <td>C@!)^))#)(</td>\n",
       "      <td>0202943</td>\n",
       "      <td>159600.0</td>\n",
       "    </tr>\n",
       "    <tr>\n",
       "      <th>2020120</th>\n",
       "      <td>C@!)^))#)(</td>\n",
       "      <td>0203312</td>\n",
       "      <td>78848.0</td>\n",
       "    </tr>\n",
       "    <tr>\n",
       "      <th>2020121</th>\n",
       "      <td>CZ10600111</td>\n",
       "      <td>0200803</td>\n",
       "      <td>55290.0</td>\n",
       "    </tr>\n",
       "    <tr>\n",
       "      <th>2020122</th>\n",
       "      <td>CZ10600111</td>\n",
       "      <td>0201895</td>\n",
       "      <td>96330.0</td>\n",
       "    </tr>\n",
       "    <tr>\n",
       "      <th>2020123</th>\n",
       "      <td>CZ10600111</td>\n",
       "      <td>0201976</td>\n",
       "      <td>6460.0</td>\n",
       "    </tr>\n",
       "  </tbody>\n",
       "</table>\n",
       "<p>2020124 rows × 3 columns</p>\n",
       "</div>"
      ],
      "text/plain": [
       "           mbr_card prod_code  transaction_value\n",
       "0        %004560450   0511892           494000.0\n",
       "1        %004560450   0904139            40090.0\n",
       "2        %004610940   0601795            56240.0\n",
       "3        %050824440   0203241            30530.0\n",
       "4        %050824440   0402853            27006.0\n",
       "...             ...       ...                ...\n",
       "2020119  C@!)^))#)(   0202943           159600.0\n",
       "2020120  C@!)^))#)(   0203312            78848.0\n",
       "2020121  CZ10600111   0200803            55290.0\n",
       "2020122  CZ10600111   0201895            96330.0\n",
       "2020123  CZ10600111   0201976             6460.0\n",
       "\n",
       "[2020124 rows x 3 columns]"
      ]
     },
     "execution_count": 2,
     "metadata": {},
     "output_type": "execute_result"
    }
   ],
   "source": [
    "df=pd.read_csv('/kaggle/input/ui-transactions-new/user_item_transactions_merged.csv', dtype={\n",
    "    'mbr_card' : str,\n",
    "    'prod_code' : str\n",
    "    })  #Reading csv file of data\n",
    "df"
   ]
  },
  {
   "cell_type": "code",
   "execution_count": 3,
   "id": "9810d5d3",
   "metadata": {
    "execution": {
     "iopub.execute_input": "2023-09-11T03:32:07.074321Z",
     "iopub.status.busy": "2023-09-11T03:32:07.073149Z",
     "iopub.status.idle": "2023-09-11T03:32:16.711440Z",
     "shell.execute_reply": "2023-09-11T03:32:16.710204Z"
    },
    "papermill": {
     "duration": 9.656246,
     "end_time": "2023-09-11T03:32:16.713914",
     "exception": false,
     "start_time": "2023-09-11T03:32:07.057668",
     "status": "completed"
    },
    "tags": []
   },
   "outputs": [
    {
     "data": {
      "text/html": [
       "<div>\n",
       "<style scoped>\n",
       "    .dataframe tbody tr th:only-of-type {\n",
       "        vertical-align: middle;\n",
       "    }\n",
       "\n",
       "    .dataframe tbody tr th {\n",
       "        vertical-align: top;\n",
       "    }\n",
       "\n",
       "    .dataframe thead th {\n",
       "        text-align: right;\n",
       "    }\n",
       "</style>\n",
       "<table border=\"1\" class=\"dataframe\">\n",
       "  <thead>\n",
       "    <tr style=\"text-align: right;\">\n",
       "      <th></th>\n",
       "      <th>mbr_card</th>\n",
       "      <th>prod_code</th>\n",
       "      <th>transaction_value</th>\n",
       "    </tr>\n",
       "  </thead>\n",
       "  <tbody>\n",
       "    <tr>\n",
       "      <th>3</th>\n",
       "      <td>%050824440</td>\n",
       "      <td>0203241</td>\n",
       "      <td>30530.0</td>\n",
       "    </tr>\n",
       "    <tr>\n",
       "      <th>4</th>\n",
       "      <td>%050824440</td>\n",
       "      <td>0402853</td>\n",
       "      <td>27006.0</td>\n",
       "    </tr>\n",
       "    <tr>\n",
       "      <th>5</th>\n",
       "      <td>%050824440</td>\n",
       "      <td>0404050</td>\n",
       "      <td>47180.0</td>\n",
       "    </tr>\n",
       "    <tr>\n",
       "      <th>6</th>\n",
       "      <td>%050824440</td>\n",
       "      <td>0514598</td>\n",
       "      <td>103600.0</td>\n",
       "    </tr>\n",
       "    <tr>\n",
       "      <th>7</th>\n",
       "      <td>%050824440</td>\n",
       "      <td>0515657</td>\n",
       "      <td>330732.0</td>\n",
       "    </tr>\n",
       "    <tr>\n",
       "      <th>...</th>\n",
       "      <td>...</td>\n",
       "      <td>...</td>\n",
       "      <td>...</td>\n",
       "    </tr>\n",
       "    <tr>\n",
       "      <th>2020114</th>\n",
       "      <td>C220502269</td>\n",
       "      <td>2400201</td>\n",
       "      <td>89205.0</td>\n",
       "    </tr>\n",
       "    <tr>\n",
       "      <th>2020115</th>\n",
       "      <td>C220502269</td>\n",
       "      <td>2400202</td>\n",
       "      <td>76095.0</td>\n",
       "    </tr>\n",
       "    <tr>\n",
       "      <th>2020116</th>\n",
       "      <td>C220502269</td>\n",
       "      <td>2400203</td>\n",
       "      <td>25650.0</td>\n",
       "    </tr>\n",
       "    <tr>\n",
       "      <th>2020117</th>\n",
       "      <td>C220502269</td>\n",
       "      <td>3400001</td>\n",
       "      <td>1996.0</td>\n",
       "    </tr>\n",
       "    <tr>\n",
       "      <th>2020118</th>\n",
       "      <td>C220502269</td>\n",
       "      <td>3600028</td>\n",
       "      <td>36195.0</td>\n",
       "    </tr>\n",
       "  </tbody>\n",
       "</table>\n",
       "<p>1341408 rows × 3 columns</p>\n",
       "</div>"
      ],
      "text/plain": [
       "           mbr_card prod_code  transaction_value\n",
       "3        %050824440   0203241            30530.0\n",
       "4        %050824440   0402853            27006.0\n",
       "5        %050824440   0404050            47180.0\n",
       "6        %050824440   0514598           103600.0\n",
       "7        %050824440   0515657           330732.0\n",
       "...             ...       ...                ...\n",
       "2020114  C220502269   2400201            89205.0\n",
       "2020115  C220502269   2400202            76095.0\n",
       "2020116  C220502269   2400203            25650.0\n",
       "2020117  C220502269   3400001             1996.0\n",
       "2020118  C220502269   3600028            36195.0\n",
       "\n",
       "[1341408 rows x 3 columns]"
      ]
     },
     "execution_count": 3,
     "metadata": {},
     "output_type": "execute_result"
    }
   ],
   "source": [
    "# Get only the user with more than 10 transactions\n",
    "df = df.groupby('mbr_card').filter(lambda x: len(x) >= 10)\n",
    "df"
   ]
  },
  {
   "cell_type": "code",
   "execution_count": 4,
   "id": "d587a790",
   "metadata": {
    "execution": {
     "iopub.execute_input": "2023-09-11T03:32:16.743381Z",
     "iopub.status.busy": "2023-09-11T03:32:16.742914Z",
     "iopub.status.idle": "2023-09-11T03:32:18.104851Z",
     "shell.execute_reply": "2023-09-11T03:32:18.102125Z"
    },
    "papermill": {
     "duration": 1.380224,
     "end_time": "2023-09-11T03:32:18.107962",
     "exception": false,
     "start_time": "2023-09-11T03:32:16.727738",
     "status": "completed"
    },
    "tags": []
   },
   "outputs": [],
   "source": [
    "from sklearn.preprocessing import MinMaxScaler\n",
    "\n",
    "df[\"transaction_value\"] = np.log1p(df[\"transaction_value\"])\n",
    "scaler = MinMaxScaler(feature_range=(1, 5))\n",
    "df[\"transaction_value\"] = scaler.fit_transform(df[\"transaction_value\"].values.reshape(-1,1))\n"
   ]
  },
  {
   "cell_type": "code",
   "execution_count": 5,
   "id": "287b5fe1",
   "metadata": {
    "execution": {
     "iopub.execute_input": "2023-09-11T03:32:18.137938Z",
     "iopub.status.busy": "2023-09-11T03:32:18.137536Z",
     "iopub.status.idle": "2023-09-11T03:32:18.151372Z",
     "shell.execute_reply": "2023-09-11T03:32:18.150272Z"
    },
    "papermill": {
     "duration": 0.03167,
     "end_time": "2023-09-11T03:32:18.153661",
     "exception": false,
     "start_time": "2023-09-11T03:32:18.121991",
     "status": "completed"
    },
    "tags": []
   },
   "outputs": [
    {
     "data": {
      "text/html": [
       "<div>\n",
       "<style scoped>\n",
       "    .dataframe tbody tr th:only-of-type {\n",
       "        vertical-align: middle;\n",
       "    }\n",
       "\n",
       "    .dataframe tbody tr th {\n",
       "        vertical-align: top;\n",
       "    }\n",
       "\n",
       "    .dataframe thead th {\n",
       "        text-align: right;\n",
       "    }\n",
       "</style>\n",
       "<table border=\"1\" class=\"dataframe\">\n",
       "  <thead>\n",
       "    <tr style=\"text-align: right;\">\n",
       "      <th></th>\n",
       "      <th>mbr_card</th>\n",
       "      <th>prod_code</th>\n",
       "      <th>transaction_value</th>\n",
       "    </tr>\n",
       "  </thead>\n",
       "  <tbody>\n",
       "    <tr>\n",
       "      <th>3</th>\n",
       "      <td>%050824440</td>\n",
       "      <td>0203241</td>\n",
       "      <td>2.426183</td>\n",
       "    </tr>\n",
       "    <tr>\n",
       "      <th>4</th>\n",
       "      <td>%050824440</td>\n",
       "      <td>0402853</td>\n",
       "      <td>2.395452</td>\n",
       "    </tr>\n",
       "    <tr>\n",
       "      <th>5</th>\n",
       "      <td>%050824440</td>\n",
       "      <td>0404050</td>\n",
       "      <td>2.535243</td>\n",
       "    </tr>\n",
       "    <tr>\n",
       "      <th>6</th>\n",
       "      <td>%050824440</td>\n",
       "      <td>0514598</td>\n",
       "      <td>2.732330</td>\n",
       "    </tr>\n",
       "    <tr>\n",
       "      <th>7</th>\n",
       "      <td>%050824440</td>\n",
       "      <td>0515657</td>\n",
       "      <td>3.023182</td>\n",
       "    </tr>\n",
       "    <tr>\n",
       "      <th>...</th>\n",
       "      <td>...</td>\n",
       "      <td>...</td>\n",
       "      <td>...</td>\n",
       "    </tr>\n",
       "    <tr>\n",
       "      <th>2020114</th>\n",
       "      <td>C220502269</td>\n",
       "      <td>2400201</td>\n",
       "      <td>2.694845</td>\n",
       "    </tr>\n",
       "    <tr>\n",
       "      <th>2020115</th>\n",
       "      <td>C220502269</td>\n",
       "      <td>2400202</td>\n",
       "      <td>2.655016</td>\n",
       "    </tr>\n",
       "    <tr>\n",
       "      <th>2020116</th>\n",
       "      <td>C220502269</td>\n",
       "      <td>2400203</td>\n",
       "      <td>2.382544</td>\n",
       "    </tr>\n",
       "    <tr>\n",
       "      <th>2020117</th>\n",
       "      <td>C220502269</td>\n",
       "      <td>3400001</td>\n",
       "      <td>1.742856</td>\n",
       "    </tr>\n",
       "    <tr>\n",
       "      <th>2020118</th>\n",
       "      <td>C220502269</td>\n",
       "      <td>3600028</td>\n",
       "      <td>2.468831</td>\n",
       "    </tr>\n",
       "  </tbody>\n",
       "</table>\n",
       "<p>1341408 rows × 3 columns</p>\n",
       "</div>"
      ],
      "text/plain": [
       "           mbr_card prod_code  transaction_value\n",
       "3        %050824440   0203241           2.426183\n",
       "4        %050824440   0402853           2.395452\n",
       "5        %050824440   0404050           2.535243\n",
       "6        %050824440   0514598           2.732330\n",
       "7        %050824440   0515657           3.023182\n",
       "...             ...       ...                ...\n",
       "2020114  C220502269   2400201           2.694845\n",
       "2020115  C220502269   2400202           2.655016\n",
       "2020116  C220502269   2400203           2.382544\n",
       "2020117  C220502269   3400001           1.742856\n",
       "2020118  C220502269   3600028           2.468831\n",
       "\n",
       "[1341408 rows x 3 columns]"
      ]
     },
     "execution_count": 5,
     "metadata": {},
     "output_type": "execute_result"
    }
   ],
   "source": [
    "df"
   ]
  },
  {
   "cell_type": "code",
   "execution_count": 6,
   "id": "d20ac7ca",
   "metadata": {
    "execution": {
     "iopub.execute_input": "2023-09-11T03:32:18.185023Z",
     "iopub.status.busy": "2023-09-11T03:32:18.184580Z",
     "iopub.status.idle": "2023-09-11T03:32:26.201875Z",
     "shell.execute_reply": "2023-09-11T03:32:26.200437Z"
    },
    "papermill": {
     "duration": 8.036255,
     "end_time": "2023-09-11T03:32:26.204885",
     "exception": false,
     "start_time": "2023-09-11T03:32:18.168630",
     "status": "completed"
    },
    "tags": []
   },
   "outputs": [
    {
     "data": {
      "image/png": "[encoded data removed]",
      "text/plain": [
       "<Figure size 800x600 with 1 Axes>"
      ]
     },
     "metadata": {},
     "output_type": "display_data"
    }
   ],
   "source": [
    "import seaborn as sns\n",
    "import matplotlib.pyplot as plt\n",
    "numerical_features = df.select_dtypes(include=['int', 'float']).columns\n",
    "\n",
    "for feature in numerical_features:\n",
    "    plt.figure(figsize=(8, 6))\n",
    "    sns.histplot(df[feature], bins=30, kde=True)\n",
    "    plt.title(f'Distribution of {feature}')\n",
    "    plt.show()\n"
   ]
  },
  {
   "cell_type": "code",
   "execution_count": 7,
   "id": "2eac07a6",
   "metadata": {
    "execution": {
     "iopub.execute_input": "2023-09-11T03:32:26.237470Z",
     "iopub.status.busy": "2023-09-11T03:32:26.236659Z",
     "iopub.status.idle": "2023-09-11T03:32:26.309433Z",
     "shell.execute_reply": "2023-09-11T03:32:26.308494Z"
    },
    "papermill": {
     "duration": 0.091454,
     "end_time": "2023-09-11T03:32:26.311818",
     "exception": false,
     "start_time": "2023-09-11T03:32:26.220364",
     "status": "completed"
    },
    "tags": []
   },
   "outputs": [
    {
     "name": "stdout",
     "output_type": "stream",
     "text": [
      "           mbr_card prod_code  transaction_value\n",
      "146      0000000000   0105253           3.488658\n",
      "179      0000000000   0108877           3.400680\n",
      "184      0000000000   0109328           3.490471\n",
      "497      0000000000   2800443           1.730512\n",
      "552      0000001072   0109815           3.458606\n",
      "...             ...       ...                ...\n",
      "2019793  AV00073466   2800444           1.730512\n",
      "2019863  AV00073833   2800443           1.730512\n",
      "2020089  C210600170   0304979           3.431981\n",
      "2020113  C220502269   0403216           1.658647\n",
      "2020117  C220502269   3400001           1.742856\n",
      "\n",
      "[26194 rows x 3 columns]\n"
     ]
    }
   ],
   "source": [
    "Q1 = df['transaction_value'].quantile(0.25)\n",
    "Q3 = df['transaction_value'].quantile(0.75)\n",
    "IQR = Q3 - Q1\n",
    "lower_bound = Q1 - 1.5 * IQR\n",
    "upper_bound = Q3 + 1.5 * IQR\n",
    "outliers = df[(df['transaction_value'] < lower_bound) | (df['transaction_value'] > upper_bound)]\n",
    "print(outliers)"
   ]
  },
  {
   "cell_type": "code",
   "execution_count": 8,
   "id": "d46d82c5",
   "metadata": {
    "execution": {
     "iopub.execute_input": "2023-09-11T03:32:26.344565Z",
     "iopub.status.busy": "2023-09-11T03:32:26.343724Z",
     "iopub.status.idle": "2023-09-11T03:32:27.501498Z",
     "shell.execute_reply": "2023-09-11T03:32:27.500200Z"
    },
    "papermill": {
     "duration": 1.17678,
     "end_time": "2023-09-11T03:32:27.504072",
     "exception": false,
     "start_time": "2023-09-11T03:32:26.327292",
     "status": "completed"
    },
    "tags": []
   },
   "outputs": [
    {
     "data": {
      "image/png": "[encoded data removed]",
      "text/plain": [
       "<Figure size 800x600 with 1 Axes>"
      ]
     },
     "metadata": {},
     "output_type": "display_data"
    }
   ],
   "source": [
    "plt.figure(figsize=(8, 6))\n",
    "sns.boxplot(data=df, orient='vertical', width=0.5)\n",
    "plt.title('Box Plot')\n",
    "plt.ylabel('Nilai')\n",
    "plt.show()"
   ]
  },
  {
   "cell_type": "code",
   "execution_count": 9,
   "id": "828a29da",
   "metadata": {
    "execution": {
     "iopub.execute_input": "2023-09-11T03:32:27.538383Z",
     "iopub.status.busy": "2023-09-11T03:32:27.537253Z",
     "iopub.status.idle": "2023-09-11T03:32:27.591718Z",
     "shell.execute_reply": "2023-09-11T03:32:27.590694Z"
    },
    "papermill": {
     "duration": 0.073853,
     "end_time": "2023-09-11T03:32:27.594321",
     "exception": false,
     "start_time": "2023-09-11T03:32:27.520468",
     "status": "completed"
    },
    "tags": []
   },
   "outputs": [],
   "source": [
    "from surprise import Dataset, Reader\n",
    "from surprise.model_selection import train_test_split\n",
    "from surprise import NMF\n",
    "from surprise import accuracy"
   ]
  },
  {
   "cell_type": "code",
   "execution_count": 10,
   "id": "8f7881ed",
   "metadata": {
    "execution": {
     "iopub.execute_input": "2023-09-11T03:32:27.627845Z",
     "iopub.status.busy": "2023-09-11T03:32:27.627200Z",
     "iopub.status.idle": "2023-09-11T03:32:27.641179Z",
     "shell.execute_reply": "2023-09-11T03:32:27.640055Z"
    },
    "papermill": {
     "duration": 0.033681,
     "end_time": "2023-09-11T03:32:27.643548",
     "exception": false,
     "start_time": "2023-09-11T03:32:27.609867",
     "status": "completed"
    },
    "tags": []
   },
   "outputs": [
    {
     "data": {
      "text/html": [
       "<div>\n",
       "<style scoped>\n",
       "    .dataframe tbody tr th:only-of-type {\n",
       "        vertical-align: middle;\n",
       "    }\n",
       "\n",
       "    .dataframe tbody tr th {\n",
       "        vertical-align: top;\n",
       "    }\n",
       "\n",
       "    .dataframe thead th {\n",
       "        text-align: right;\n",
       "    }\n",
       "</style>\n",
       "<table border=\"1\" class=\"dataframe\">\n",
       "  <thead>\n",
       "    <tr style=\"text-align: right;\">\n",
       "      <th></th>\n",
       "      <th>mbr_card</th>\n",
       "      <th>prod_code</th>\n",
       "      <th>transaction_value</th>\n",
       "    </tr>\n",
       "  </thead>\n",
       "  <tbody>\n",
       "    <tr>\n",
       "      <th>3</th>\n",
       "      <td>%050824440</td>\n",
       "      <td>0203241</td>\n",
       "      <td>2.426183</td>\n",
       "    </tr>\n",
       "    <tr>\n",
       "      <th>4</th>\n",
       "      <td>%050824440</td>\n",
       "      <td>0402853</td>\n",
       "      <td>2.395452</td>\n",
       "    </tr>\n",
       "    <tr>\n",
       "      <th>5</th>\n",
       "      <td>%050824440</td>\n",
       "      <td>0404050</td>\n",
       "      <td>2.535243</td>\n",
       "    </tr>\n",
       "    <tr>\n",
       "      <th>6</th>\n",
       "      <td>%050824440</td>\n",
       "      <td>0514598</td>\n",
       "      <td>2.732330</td>\n",
       "    </tr>\n",
       "    <tr>\n",
       "      <th>7</th>\n",
       "      <td>%050824440</td>\n",
       "      <td>0515657</td>\n",
       "      <td>3.023182</td>\n",
       "    </tr>\n",
       "    <tr>\n",
       "      <th>...</th>\n",
       "      <td>...</td>\n",
       "      <td>...</td>\n",
       "      <td>...</td>\n",
       "    </tr>\n",
       "    <tr>\n",
       "      <th>2020114</th>\n",
       "      <td>C220502269</td>\n",
       "      <td>2400201</td>\n",
       "      <td>2.694845</td>\n",
       "    </tr>\n",
       "    <tr>\n",
       "      <th>2020115</th>\n",
       "      <td>C220502269</td>\n",
       "      <td>2400202</td>\n",
       "      <td>2.655016</td>\n",
       "    </tr>\n",
       "    <tr>\n",
       "      <th>2020116</th>\n",
       "      <td>C220502269</td>\n",
       "      <td>2400203</td>\n",
       "      <td>2.382544</td>\n",
       "    </tr>\n",
       "    <tr>\n",
       "      <th>2020117</th>\n",
       "      <td>C220502269</td>\n",
       "      <td>3400001</td>\n",
       "      <td>1.742856</td>\n",
       "    </tr>\n",
       "    <tr>\n",
       "      <th>2020118</th>\n",
       "      <td>C220502269</td>\n",
       "      <td>3600028</td>\n",
       "      <td>2.468831</td>\n",
       "    </tr>\n",
       "  </tbody>\n",
       "</table>\n",
       "<p>1341408 rows × 3 columns</p>\n",
       "</div>"
      ],
      "text/plain": [
       "           mbr_card prod_code  transaction_value\n",
       "3        %050824440   0203241           2.426183\n",
       "4        %050824440   0402853           2.395452\n",
       "5        %050824440   0404050           2.535243\n",
       "6        %050824440   0514598           2.732330\n",
       "7        %050824440   0515657           3.023182\n",
       "...             ...       ...                ...\n",
       "2020114  C220502269   2400201           2.694845\n",
       "2020115  C220502269   2400202           2.655016\n",
       "2020116  C220502269   2400203           2.382544\n",
       "2020117  C220502269   3400001           1.742856\n",
       "2020118  C220502269   3600028           2.468831\n",
       "\n",
       "[1341408 rows x 3 columns]"
      ]
     },
     "execution_count": 10,
     "metadata": {},
     "output_type": "execute_result"
    }
   ],
   "source": [
    "df"
   ]
  },
  {
   "cell_type": "code",
   "execution_count": 11,
   "id": "25a98561",
   "metadata": {
    "execution": {
     "iopub.execute_input": "2023-09-11T03:32:27.677527Z",
     "iopub.status.busy": "2023-09-11T03:32:27.677062Z",
     "iopub.status.idle": "2023-09-11T03:32:27.688672Z",
     "shell.execute_reply": "2023-09-11T03:32:27.687552Z"
    },
    "papermill": {
     "duration": 0.03184,
     "end_time": "2023-09-11T03:32:27.691377",
     "exception": false,
     "start_time": "2023-09-11T03:32:27.659537",
     "status": "completed"
    },
    "tags": []
   },
   "outputs": [],
   "source": [
    "reader = Reader(rating_scale=(df['transaction_value'].min(), df['transaction_value'].max()))"
   ]
  },
  {
   "cell_type": "code",
   "execution_count": 12,
   "id": "db2c0000",
   "metadata": {
    "execution": {
     "iopub.execute_input": "2023-09-11T03:32:27.725541Z",
     "iopub.status.busy": "2023-09-11T03:32:27.725075Z",
     "iopub.status.idle": "2023-09-11T03:32:27.732492Z",
     "shell.execute_reply": "2023-09-11T03:32:27.731234Z"
    },
    "papermill": {
     "duration": 0.027596,
     "end_time": "2023-09-11T03:32:27.734955",
     "exception": false,
     "start_time": "2023-09-11T03:32:27.707359",
     "status": "completed"
    },
    "tags": []
   },
   "outputs": [
    {
     "data": {
      "text/plain": [
       "<surprise.reader.Reader at 0x7bccb6baa410>"
      ]
     },
     "execution_count": 12,
     "metadata": {},
     "output_type": "execute_result"
    }
   ],
   "source": [
    "reader"
   ]
  },
  {
   "cell_type": "code",
   "execution_count": 13,
   "id": "80a35e4a",
   "metadata": {
    "execution": {
     "iopub.execute_input": "2023-09-11T03:32:27.770093Z",
     "iopub.status.busy": "2023-09-11T03:32:27.769015Z",
     "iopub.status.idle": "2023-09-11T03:32:29.870943Z",
     "shell.execute_reply": "2023-09-11T03:32:29.869972Z"
    },
    "papermill": {
     "duration": 2.122168,
     "end_time": "2023-09-11T03:32:29.873666",
     "exception": false,
     "start_time": "2023-09-11T03:32:27.751498",
     "status": "completed"
    },
    "tags": []
   },
   "outputs": [],
   "source": [
    "df_surprise = Dataset.load_from_df(df[['mbr_card', 'prod_code', 'transaction_value']], reader)"
   ]
  },
  {
   "cell_type": "code",
   "execution_count": 14,
   "id": "f3abb9e6",
   "metadata": {
    "execution": {
     "iopub.execute_input": "2023-09-11T03:32:29.908280Z",
     "iopub.status.busy": "2023-09-11T03:32:29.907018Z",
     "iopub.status.idle": "2023-09-11T03:32:29.914890Z",
     "shell.execute_reply": "2023-09-11T03:32:29.913500Z"
    },
    "papermill": {
     "duration": 0.02783,
     "end_time": "2023-09-11T03:32:29.917543",
     "exception": false,
     "start_time": "2023-09-11T03:32:29.889713",
     "status": "completed"
    },
    "tags": []
   },
   "outputs": [
    {
     "data": {
      "text/plain": [
       "<surprise.dataset.DatasetAutoFolds at 0x7bccb6b56a10>"
      ]
     },
     "execution_count": 14,
     "metadata": {},
     "output_type": "execute_result"
    }
   ],
   "source": [
    "df_surprise"
   ]
  },
  {
   "cell_type": "code",
   "execution_count": 15,
   "id": "b09c62ea",
   "metadata": {
    "execution": {
     "iopub.execute_input": "2023-09-11T03:32:29.951992Z",
     "iopub.status.busy": "2023-09-11T03:32:29.951556Z",
     "iopub.status.idle": "2023-09-11T03:32:33.542647Z",
     "shell.execute_reply": "2023-09-11T03:32:33.541516Z"
    },
    "papermill": {
     "duration": 3.611491,
     "end_time": "2023-09-11T03:32:33.545512",
     "exception": false,
     "start_time": "2023-09-11T03:32:29.934021",
     "status": "completed"
    },
    "tags": []
   },
   "outputs": [],
   "source": [
    "train, test = train_test_split(df_surprise, test_size=0.2, random_state=42)"
   ]
  },
  {
   "cell_type": "code",
   "execution_count": 16,
   "id": "f0fb354d",
   "metadata": {
    "execution": {
     "iopub.execute_input": "2023-09-11T03:32:33.580628Z",
     "iopub.status.busy": "2023-09-11T03:32:33.579382Z",
     "iopub.status.idle": "2023-09-11T03:32:33.585314Z",
     "shell.execute_reply": "2023-09-11T03:32:33.584214Z"
    },
    "papermill": {
     "duration": 0.026179,
     "end_time": "2023-09-11T03:32:33.588003",
     "exception": false,
     "start_time": "2023-09-11T03:32:33.561824",
     "status": "completed"
    },
    "tags": []
   },
   "outputs": [],
   "source": [
    "model = NMF()"
   ]
  },
  {
   "cell_type": "code",
   "execution_count": 17,
   "id": "8550d54d",
   "metadata": {
    "execution": {
     "iopub.execute_input": "2023-09-11T03:32:33.623348Z",
     "iopub.status.busy": "2023-09-11T03:32:33.622039Z",
     "iopub.status.idle": "2023-09-11T03:33:18.749590Z",
     "shell.execute_reply": "2023-09-11T03:33:18.748460Z"
    },
    "papermill": {
     "duration": 45.163853,
     "end_time": "2023-09-11T03:33:18.768277",
     "exception": false,
     "start_time": "2023-09-11T03:32:33.604424",
     "status": "completed"
    },
    "tags": []
   },
   "outputs": [
    {
     "data": {
      "text/plain": [
       "<surprise.prediction_algorithms.matrix_factorization.NMF at 0x7bccb6ca1030>"
      ]
     },
     "execution_count": 17,
     "metadata": {},
     "output_type": "execute_result"
    }
   ],
   "source": [
    "model.fit(train)"
   ]
  },
  {
   "cell_type": "code",
   "execution_count": 18,
   "id": "169ea2ba",
   "metadata": {
    "execution": {
     "iopub.execute_input": "2023-09-11T03:33:18.803085Z",
     "iopub.status.busy": "2023-09-11T03:33:18.802687Z",
     "iopub.status.idle": "2023-09-11T03:33:22.537905Z",
     "shell.execute_reply": "2023-09-11T03:33:22.536456Z"
    },
    "papermill": {
     "duration": 3.756216,
     "end_time": "2023-09-11T03:33:22.540967",
     "exception": false,
     "start_time": "2023-09-11T03:33:18.784751",
     "status": "completed"
    },
    "tags": []
   },
   "outputs": [],
   "source": [
    "predictions = model.test(test)"
   ]
  },
  {
   "cell_type": "code",
   "execution_count": 19,
   "id": "f4cff995",
   "metadata": {
    "execution": {
     "iopub.execute_input": "2023-09-11T03:33:22.576669Z",
     "iopub.status.busy": "2023-09-11T03:33:22.576259Z",
     "iopub.status.idle": "2023-09-11T03:33:22.854766Z",
     "shell.execute_reply": "2023-09-11T03:33:22.853416Z"
    },
    "papermill": {
     "duration": 0.300091,
     "end_time": "2023-09-11T03:33:22.857749",
     "exception": false,
     "start_time": "2023-09-11T03:33:22.557658",
     "status": "completed"
    },
    "tags": []
   },
   "outputs": [
    {
     "name": "stdout",
     "output_type": "stream",
     "text": [
      "RMSE: 0.1549\n",
      "RMSE untuk data test: 0.15491616616382536\n"
     ]
    }
   ],
   "source": [
    "rmse = accuracy.rmse(predictions)\n",
    "print(\"RMSE untuk data test:\", rmse)"
   ]
  },
  {
   "cell_type": "code",
   "execution_count": 20,
   "id": "b2ea397d",
   "metadata": {
    "execution": {
     "iopub.execute_input": "2023-09-11T03:33:22.892716Z",
     "iopub.status.busy": "2023-09-11T03:33:22.891871Z",
     "iopub.status.idle": "2023-09-11T03:33:22.904980Z",
     "shell.execute_reply": "2023-09-11T03:33:22.903848Z"
    },
    "papermill": {
     "duration": 0.033556,
     "end_time": "2023-09-11T03:33:22.907526",
     "exception": false,
     "start_time": "2023-09-11T03:33:22.873970",
     "status": "completed"
    },
    "tags": []
   },
   "outputs": [
    {
     "data": {
      "text/html": [
       "<style>#sk-container-id-1 {color: black;background-color: white;}#sk-container-id-1 pre{padding: 0;}#sk-container-id-1 div.sk-toggleable {background-color: white;}#sk-container-id-1 label.sk-toggleable__label {cursor: pointer;display: block;width: 100%;margin-bottom: 0;padding: 0.3em;box-sizing: border-box;text-align: center;}#sk-container-id-1 label.sk-toggleable__label-arrow:before {content: \"▸\";float: left;margin-right: 0.25em;color: #696969;}#sk-container-id-1 label.sk-toggleable__label-arrow:hover:before {color: black;}#sk-container-id-1 div.sk-estimator:hover label.sk-toggleable__label-arrow:before {color: black;}#sk-container-id-1 div.sk-toggleable__content {max-height: 0;max-width: 0;overflow: hidden;text-align: left;background-color: #f0f8ff;}#sk-container-id-1 div.sk-toggleable__content pre {margin: 0.2em;color: black;border-radius: 0.25em;background-color: #f0f8ff;}#sk-container-id-1 input.sk-toggleable__control:checked~div.sk-toggleable__content {max-height: 200px;max-width: 100%;overflow: auto;}#sk-container-id-1 input.sk-toggleable__control:checked~label.sk-toggleable__label-arrow:before {content: \"▾\";}#sk-container-id-1 div.sk-estimator input.sk-toggleable__control:checked~label.sk-toggleable__label {background-color: #d4ebff;}#sk-container-id-1 div.sk-label input.sk-toggleable__control:checked~label.sk-toggleable__label {background-color: #d4ebff;}#sk-container-id-1 input.sk-hidden--visually {border: 0;clip: rect(1px 1px 1px 1px);clip: rect(1px, 1px, 1px, 1px);height: 1px;margin: -1px;overflow: hidden;padding: 0;position: absolute;width: 1px;}#sk-container-id-1 div.sk-estimator {font-family: monospace;background-color: #f0f8ff;border: 1px dotted black;border-radius: 0.25em;box-sizing: border-box;margin-bottom: 0.5em;}#sk-container-id-1 div.sk-estimator:hover {background-color: #d4ebff;}#sk-container-id-1 div.sk-parallel-item::after {content: \"\";width: 100%;border-bottom: 1px solid gray;flex-grow: 1;}#sk-container-id-1 div.sk-label:hover label.sk-toggleable__label {background-color: #d4ebff;}#sk-container-id-1 div.sk-serial::before {content: \"\";position: absolute;border-left: 1px solid gray;box-sizing: border-box;top: 0;bottom: 0;left: 50%;z-index: 0;}#sk-container-id-1 div.sk-serial {display: flex;flex-direction: column;align-items: center;background-color: white;padding-right: 0.2em;padding-left: 0.2em;position: relative;}#sk-container-id-1 div.sk-item {position: relative;z-index: 1;}#sk-container-id-1 div.sk-parallel {display: flex;align-items: stretch;justify-content: center;background-color: white;position: relative;}#sk-container-id-1 div.sk-item::before, #sk-container-id-1 div.sk-parallel-item::before {content: \"\";position: absolute;border-left: 1px solid gray;box-sizing: border-box;top: 0;bottom: 0;left: 50%;z-index: -1;}#sk-container-id-1 div.sk-parallel-item {display: flex;flex-direction: column;z-index: 1;position: relative;background-color: white;}#sk-container-id-1 div.sk-parallel-item:first-child::after {align-self: flex-end;width: 50%;}#sk-container-id-1 div.sk-parallel-item:last-child::after {align-self: flex-start;width: 50%;}#sk-container-id-1 div.sk-parallel-item:only-child::after {width: 0;}#sk-container-id-1 div.sk-dashed-wrapped {border: 1px dashed gray;margin: 0 0.4em 0.5em 0.4em;box-sizing: border-box;padding-bottom: 0.4em;background-color: white;}#sk-container-id-1 div.sk-label label {font-family: monospace;font-weight: bold;display: inline-block;line-height: 1.2em;}#sk-container-id-1 div.sk-label-container {text-align: center;}#sk-container-id-1 div.sk-container {/* jupyter's `normalize.less` sets `[hidden] { display: none; }` but bootstrap.min.css set `[hidden] { display: none !important; }` so we also need the `!important` here to be able to override the default hidden behavior on the sphinx rendered scikit-learn.org. See: https://github.com/scikit-learn/scikit-learn/issues/21755 */display: inline-block !important;position: relative;}#sk-container-id-1 div.sk-text-repr-fallback {display: none;}</style><div id=\"sk-container-id-1\" class=\"sk-top-container\"><div class=\"sk-text-repr-fallback\"><pre>MinMaxScaler(feature_range=(1, 5))</pre><b>In a Jupyter environment, please rerun this cell to show the HTML representation or trust the notebook. <br />On GitHub, the HTML representation is unable to render, please try loading this page with nbviewer.org.</b></div><div class=\"sk-container\" hidden><div class=\"sk-item\"><div class=\"sk-estimator sk-toggleable\"><input class=\"sk-toggleable__control sk-hidden--visually\" id=\"sk-estimator-id-1\" type=\"checkbox\" checked><label for=\"sk-estimator-id-1\" class=\"sk-toggleable__label sk-toggleable__label-arrow\">MinMaxScaler</label><div class=\"sk-toggleable__content\"><pre>MinMaxScaler(feature_range=(1, 5))</pre></div></div></div></div></div>"
      ],
      "text/plain": [
       "MinMaxScaler(feature_range=(1, 5))"
      ]
     },
     "execution_count": 20,
     "metadata": {},
     "output_type": "execute_result"
    }
   ],
   "source": [
    "scaler"
   ]
  },
  {
   "cell_type": "code",
   "execution_count": 21,
   "id": "2dbd0b8b",
   "metadata": {
    "execution": {
     "iopub.execute_input": "2023-09-11T03:33:23.007797Z",
     "iopub.status.busy": "2023-09-11T03:33:23.007384Z",
     "iopub.status.idle": "2023-09-11T03:33:23.324035Z",
     "shell.execute_reply": "2023-09-11T03:33:23.322901Z"
    },
    "papermill": {
     "duration": 0.402791,
     "end_time": "2023-09-11T03:33:23.326964",
     "exception": false,
     "start_time": "2023-09-11T03:33:22.924173",
     "status": "completed"
    },
    "tags": []
   },
   "outputs": [],
   "source": [
    "test = pd.DataFrame({\n",
    "    'actual_rating' : [p.r_ui for p in predictions],\n",
    "    'predicted_rating' : [p.est for p in predictions]\n",
    "})"
   ]
  },
  {
   "cell_type": "code",
   "execution_count": 22,
   "id": "719056e8",
   "metadata": {
    "execution": {
     "iopub.execute_input": "2023-09-11T03:33:23.362340Z",
     "iopub.status.busy": "2023-09-11T03:33:23.361910Z",
     "iopub.status.idle": "2023-09-11T03:33:23.380351Z",
     "shell.execute_reply": "2023-09-11T03:33:23.379381Z"
    },
    "papermill": {
     "duration": 0.039277,
     "end_time": "2023-09-11T03:33:23.383099",
     "exception": false,
     "start_time": "2023-09-11T03:33:23.343822",
     "status": "completed"
    },
    "tags": []
   },
   "outputs": [],
   "source": [
    "test[\"predicted_rating\"] = scaler.inverse_transform(test['predicted_rating'].values.reshape(-1,1))\n",
    "test[\"predicted_rating\"] = np.exp(test['predicted_rating']) - 1\n",
    "test[\"actual_rating\"] = scaler.inverse_transform(test['actual_rating'].values.reshape(-1,1))\n",
    "test[\"actual_rating\"] = np.exp(test['actual_rating']) - 1"
   ]
  },
  {
   "cell_type": "code",
   "execution_count": 23,
   "id": "4c469970",
   "metadata": {
    "execution": {
     "iopub.execute_input": "2023-09-11T03:33:23.418954Z",
     "iopub.status.busy": "2023-09-11T03:33:23.418544Z",
     "iopub.status.idle": "2023-09-11T03:33:23.433550Z",
     "shell.execute_reply": "2023-09-11T03:33:23.432411Z"
    },
    "papermill": {
     "duration": 0.035564,
     "end_time": "2023-09-11T03:33:23.436029",
     "exception": false,
     "start_time": "2023-09-11T03:33:23.400465",
     "status": "completed"
    },
    "tags": []
   },
   "outputs": [
    {
     "data": {
      "text/html": [
       "<div>\n",
       "<style scoped>\n",
       "    .dataframe tbody tr th:only-of-type {\n",
       "        vertical-align: middle;\n",
       "    }\n",
       "\n",
       "    .dataframe tbody tr th {\n",
       "        vertical-align: top;\n",
       "    }\n",
       "\n",
       "    .dataframe thead th {\n",
       "        text-align: right;\n",
       "    }\n",
       "</style>\n",
       "<table border=\"1\" class=\"dataframe\">\n",
       "  <thead>\n",
       "    <tr style=\"text-align: right;\">\n",
       "      <th></th>\n",
       "      <th>actual_rating</th>\n",
       "      <th>predicted_rating</th>\n",
       "    </tr>\n",
       "  </thead>\n",
       "  <tbody>\n",
       "    <tr>\n",
       "      <th>0</th>\n",
       "      <td>232890.0</td>\n",
       "      <td>21332.360631</td>\n",
       "    </tr>\n",
       "    <tr>\n",
       "      <th>1</th>\n",
       "      <td>60000.0</td>\n",
       "      <td>46837.800126</td>\n",
       "    </tr>\n",
       "    <tr>\n",
       "      <th>2</th>\n",
       "      <td>170050.0</td>\n",
       "      <td>211252.930997</td>\n",
       "    </tr>\n",
       "    <tr>\n",
       "      <th>3</th>\n",
       "      <td>309700.0</td>\n",
       "      <td>435045.824234</td>\n",
       "    </tr>\n",
       "    <tr>\n",
       "      <th>4</th>\n",
       "      <td>31730.0</td>\n",
       "      <td>35392.016328</td>\n",
       "    </tr>\n",
       "    <tr>\n",
       "      <th>...</th>\n",
       "      <td>...</td>\n",
       "      <td>...</td>\n",
       "    </tr>\n",
       "    <tr>\n",
       "      <th>268277</th>\n",
       "      <td>281200.0</td>\n",
       "      <td>285388.672124</td>\n",
       "    </tr>\n",
       "    <tr>\n",
       "      <th>268278</th>\n",
       "      <td>222000.0</td>\n",
       "      <td>184472.131733</td>\n",
       "    </tr>\n",
       "    <tr>\n",
       "      <th>268279</th>\n",
       "      <td>120700.0</td>\n",
       "      <td>236284.282915</td>\n",
       "    </tr>\n",
       "    <tr>\n",
       "      <th>268280</th>\n",
       "      <td>39424.0</td>\n",
       "      <td>30053.671493</td>\n",
       "    </tr>\n",
       "    <tr>\n",
       "      <th>268281</th>\n",
       "      <td>359100.0</td>\n",
       "      <td>306759.861748</td>\n",
       "    </tr>\n",
       "  </tbody>\n",
       "</table>\n",
       "<p>268282 rows × 2 columns</p>\n",
       "</div>"
      ],
      "text/plain": [
       "        actual_rating  predicted_rating\n",
       "0            232890.0      21332.360631\n",
       "1             60000.0      46837.800126\n",
       "2            170050.0     211252.930997\n",
       "3            309700.0     435045.824234\n",
       "4             31730.0      35392.016328\n",
       "...               ...               ...\n",
       "268277       281200.0     285388.672124\n",
       "268278       222000.0     184472.131733\n",
       "268279       120700.0     236284.282915\n",
       "268280        39424.0      30053.671493\n",
       "268281       359100.0     306759.861748\n",
       "\n",
       "[268282 rows x 2 columns]"
      ]
     },
     "execution_count": 23,
     "metadata": {},
     "output_type": "execute_result"
    }
   ],
   "source": [
    "test"
   ]
  },
  {
   "cell_type": "code",
   "execution_count": 24,
   "id": "ceee9648",
   "metadata": {
    "execution": {
     "iopub.execute_input": "2023-09-11T03:33:23.472086Z",
     "iopub.status.busy": "2023-09-11T03:33:23.471692Z",
     "iopub.status.idle": "2023-09-11T03:33:23.479688Z",
     "shell.execute_reply": "2023-09-11T03:33:23.478557Z"
    },
    "papermill": {
     "duration": 0.02933,
     "end_time": "2023-09-11T03:33:23.482293",
     "exception": false,
     "start_time": "2023-09-11T03:33:23.452963",
     "status": "completed"
    },
    "tags": []
   },
   "outputs": [],
   "source": [
    "import pandas as pd\n",
    "import random\n",
    "\n",
    "def random_sample_predictions(predictions_df, n=10):\n",
    "    # Ensure the input DataFrame is sorted randomly\n",
    "    predictions_df = predictions_df.sample(frac=1).reset_index(drop=True)\n",
    "    \n",
    "    print(f\"{'Actual Rating':<15}{'Predicted Rating':<18}{'Rating Difference':<18}\")\n",
    "    print(\"=\"*55)\n",
    "    \n",
    "    for i in range(min(n, len(predictions_df))):\n",
    "        actual_rating = predictions_df.loc[i, 'actual_rating']\n",
    "        predicted_rating = predictions_df.loc[i, 'predicted_rating']\n",
    "        rating_difference = abs(actual_rating - predicted_rating)\n",
    "        \n",
    "        print(f\"{actual_rating:<15.2f}{predicted_rating:<18.2f}{rating_difference:<18.2f}\")\n",
    "\n"
   ]
  },
  {
   "cell_type": "code",
   "execution_count": 25,
   "id": "d5eb5c3b",
   "metadata": {
    "execution": {
     "iopub.execute_input": "2023-09-11T03:33:23.518138Z",
     "iopub.status.busy": "2023-09-11T03:33:23.517732Z",
     "iopub.status.idle": "2023-09-11T03:33:23.545331Z",
     "shell.execute_reply": "2023-09-11T03:33:23.544026Z"
    },
    "papermill": {
     "duration": 0.048762,
     "end_time": "2023-09-11T03:33:23.547953",
     "exception": false,
     "start_time": "2023-09-11T03:33:23.499191",
     "status": "completed"
    },
    "tags": []
   },
   "outputs": [
    {
     "name": "stdout",
     "output_type": "stream",
     "text": [
      "Actual Rating  Predicted Rating  Rating Difference \n",
      "=======================================================\n",
      "58140.00       27159.37          30980.63          \n",
      "32110.00       27422.69          4687.31           \n",
      "373000.00      74745.69          298254.31         \n",
      "129500.00      157856.23         28356.23          \n",
      "61940.00       56067.75          5872.25           \n",
      "42940.00       66014.53          23074.53          \n",
      "473100.00      885508.52         412408.52         \n",
      "88800.00       45884.32          42915.68          \n",
      "48640.00       106263.42         57623.42          \n",
      "78848.00       27213.60          51634.40          \n"
     ]
    }
   ],
   "source": [
    "random_sample_predictions(test, 10)"
   ]
  },
  {
   "cell_type": "code",
   "execution_count": 26,
   "id": "f612fe40",
   "metadata": {
    "execution": {
     "iopub.execute_input": "2023-09-11T03:33:23.584100Z",
     "iopub.status.busy": "2023-09-11T03:33:23.583715Z",
     "iopub.status.idle": "2023-09-11T03:33:23.590772Z",
     "shell.execute_reply": "2023-09-11T03:33:23.589837Z"
    },
    "papermill": {
     "duration": 0.028137,
     "end_time": "2023-09-11T03:33:23.593392",
     "exception": false,
     "start_time": "2023-09-11T03:33:23.565255",
     "status": "completed"
    },
    "tags": []
   },
   "outputs": [],
   "source": [
    "test[\"diff\"] = abs(test[\"actual_rating\"] - test[\"predicted_rating\"])"
   ]
  },
  {
   "cell_type": "code",
   "execution_count": 27,
   "id": "464ce525",
   "metadata": {
    "execution": {
     "iopub.execute_input": "2023-09-11T03:33:23.629542Z",
     "iopub.status.busy": "2023-09-11T03:33:23.629090Z",
     "iopub.status.idle": "2023-09-11T03:33:23.637005Z",
     "shell.execute_reply": "2023-09-11T03:33:23.636038Z"
    },
    "papermill": {
     "duration": 0.028602,
     "end_time": "2023-09-11T03:33:23.639242",
     "exception": false,
     "start_time": "2023-09-11T03:33:23.610640",
     "status": "completed"
    },
    "tags": []
   },
   "outputs": [
    {
     "data": {
      "text/plain": [
       "143152597.78074077"
      ]
     },
     "execution_count": 27,
     "metadata": {},
     "output_type": "execute_result"
    }
   ],
   "source": [
    "test[\"diff\"].max()"
   ]
  },
  {
   "cell_type": "code",
   "execution_count": 28,
   "id": "a1fef74c",
   "metadata": {
    "execution": {
     "iopub.execute_input": "2023-09-11T03:33:23.675736Z",
     "iopub.status.busy": "2023-09-11T03:33:23.675293Z",
     "iopub.status.idle": "2023-09-11T03:33:23.683266Z",
     "shell.execute_reply": "2023-09-11T03:33:23.682364Z"
    },
    "papermill": {
     "duration": 0.028801,
     "end_time": "2023-09-11T03:33:23.685449",
     "exception": false,
     "start_time": "2023-09-11T03:33:23.656648",
     "status": "completed"
    },
    "tags": []
   },
   "outputs": [
    {
     "data": {
      "text/plain": [
       "0.011061152011279773"
      ]
     },
     "execution_count": 28,
     "metadata": {},
     "output_type": "execute_result"
    }
   ],
   "source": [
    "test[\"diff\"].min()"
   ]
  },
  {
   "cell_type": "code",
   "execution_count": 29,
   "id": "b18d0640",
   "metadata": {
    "execution": {
     "iopub.execute_input": "2023-09-11T03:33:23.721996Z",
     "iopub.status.busy": "2023-09-11T03:33:23.721542Z",
     "iopub.status.idle": "2023-09-11T03:33:24.138043Z",
     "shell.execute_reply": "2023-09-11T03:33:24.137136Z"
    },
    "papermill": {
     "duration": 0.438233,
     "end_time": "2023-09-11T03:33:24.141382",
     "exception": false,
     "start_time": "2023-09-11T03:33:23.703149",
     "status": "completed"
    },
    "tags": []
   },
   "outputs": [
    {
     "data": {
      "text/plain": [
       "<Axes: >"
      ]
     },
     "execution_count": 29,
     "metadata": {},
     "output_type": "execute_result"
    },
    {
     "data": {
      "image/png": "[encoded data removed]",
      "text/plain": [
       "<Figure size 640x480 with 1 Axes>"
      ]
     },
     "metadata": {},
     "output_type": "display_data"
    }
   ],
   "source": [
    "test[\"diff\"].plot()"
   ]
  },
  {
   "cell_type": "code",
   "execution_count": 30,
   "id": "6de63951",
   "metadata": {
    "execution": {
     "iopub.execute_input": "2023-09-11T03:33:24.183788Z",
     "iopub.status.busy": "2023-09-11T03:33:24.183306Z",
     "iopub.status.idle": "2023-09-11T03:37:52.115939Z",
     "shell.execute_reply": "2023-09-11T03:37:52.114657Z"
    },
    "papermill": {
     "duration": 267.97338,
     "end_time": "2023-09-11T03:37:52.136694",
     "exception": false,
     "start_time": "2023-09-11T03:33:24.163314",
     "status": "completed"
    },
    "tags": []
   },
   "outputs": [
    {
     "name": "stdout",
     "output_type": "stream",
     "text": [
      "Evaluating RMSE, MAE of algorithm NMF on 5 split(s).\n",
      "\n",
      "                  Fold 1  Fold 2  Fold 3  Fold 4  Fold 5  Mean    Std     \n",
      "RMSE (testset)    0.1547  0.1552  0.1550  0.1545  0.1554  0.1550  0.0003  \n",
      "MAE (testset)     0.1117  0.1117  0.1119  0.1115  0.1119  0.1117  0.0002  \n",
      "Fit time          44.09   45.67   45.80   46.17   45.82   45.51   0.73    \n",
      "Test time         4.10    3.33    3.40    3.35    3.99    3.63    0.34    \n"
     ]
    },
    {
     "data": {
      "text/plain": [
       "{'test_rmse': array([0.15473959, 0.15519978, 0.15503705, 0.15454677, 0.1554461 ]),\n",
       " 'test_mae': array([0.11167424, 0.11170076, 0.11189734, 0.11149604, 0.11193402]),\n",
       " 'fit_time': (44.088889837265015,\n",
       "  45.67279124259949,\n",
       "  45.80470299720764,\n",
       "  46.17466950416565,\n",
       "  45.82231640815735),\n",
       " 'test_time': (4.09509801864624,\n",
       "  3.330073356628418,\n",
       "  3.398149013519287,\n",
       "  3.345358371734619,\n",
       "  3.993243455886841)}"
      ]
     },
     "execution_count": 30,
     "metadata": {},
     "output_type": "execute_result"
    }
   ],
   "source": [
    "from surprise.model_selection import cross_validate\n",
    "\n",
    "cross_validate(model, df_surprise, measures=['RMSE', 'MAE'], cv=5, verbose=True)"
   ]
  },
  {
   "cell_type": "code",
   "execution_count": 31,
   "id": "97331732",
   "metadata": {
    "execution": {
     "iopub.execute_input": "2023-09-11T03:37:52.177203Z",
     "iopub.status.busy": "2023-09-11T03:37:52.176733Z",
     "iopub.status.idle": "2023-09-11T03:37:52.183905Z",
     "shell.execute_reply": "2023-09-11T03:37:52.182749Z"
    },
    "papermill": {
     "duration": 0.030751,
     "end_time": "2023-09-11T03:37:52.186321",
     "exception": false,
     "start_time": "2023-09-11T03:37:52.155570",
     "status": "completed"
    },
    "tags": []
   },
   "outputs": [],
   "source": [
    "test[\"diff_rate\"] = test[\"diff\"] / test[\"actual_rating\"] "
   ]
  },
  {
   "cell_type": "code",
   "execution_count": 32,
   "id": "23dd4d09",
   "metadata": {
    "execution": {
     "iopub.execute_input": "2023-09-11T03:37:52.225822Z",
     "iopub.status.busy": "2023-09-11T03:37:52.225062Z",
     "iopub.status.idle": "2023-09-11T03:37:52.233086Z",
     "shell.execute_reply": "2023-09-11T03:37:52.231948Z"
    },
    "papermill": {
     "duration": 0.03065,
     "end_time": "2023-09-11T03:37:52.235718",
     "exception": false,
     "start_time": "2023-09-11T03:37:52.205068",
     "status": "completed"
    },
    "tags": []
   },
   "outputs": [
    {
     "data": {
      "text/plain": [
       "0.499606347534859"
      ]
     },
     "execution_count": 32,
     "metadata": {},
     "output_type": "execute_result"
    }
   ],
   "source": [
    "test[\"diff_rate\"].mean()"
   ]
  },
  {
   "cell_type": "code",
   "execution_count": null,
   "id": "1d470cde",
   "metadata": {
    "papermill": {
     "duration": 0.018205,
     "end_time": "2023-09-11T03:37:52.272325",
     "exception": false,
     "start_time": "2023-09-11T03:37:52.254120",
     "status": "completed"
    },
    "tags": []
   },
   "outputs": [],
   "source": []
  }
 ],
 "kernelspec": {
  "display_name": "Python 3",
  "language": "python",
  "name": "python3"
 },
 "language_info": {
  "codemirror_mode": {
   "name": "ipython",
   "version": 3
  },
  "file_extension": ".py",
  "mimetype": "text/x-python",
  "name": "python",
  "nbconvert_exporter": "python",
  "pygments_lexer": "ipython3",
  "version": "3.6.4"
 },
 "metadata": {
  "colab": {
   "name": "1741035_1741036_1741075_1741083_Collaborative_filtering_using_MF_with SGD.ipynb",
   "provenance": []
  },
  "kernelspec": {
   "display_name": "Python 3",
   "language": "python",
   "name": "python3"
  },
  "language_info": {
   "codemirror_mode": {
    "name": "ipython",
    "version": 3
   },
   "file_extension": ".py",
   "mimetype": "text/x-python",
   "name": "python",
   "nbconvert_exporter": "python",
   "pygments_lexer": "ipython3",
   "version": "3.10.12"
  },
  "papermill": {
   "default_parameters": {},
   "duration": 355.032288,
   "end_time": "2023-09-11T03:37:54.622607",
   "environment_variables": {},
   "exception": null,
   "input_path": "__notebook__.ipynb",
   "output_path": "__notebook__.ipynb",
   "parameters": {},
   "start_time": "2023-09-11T03:31:59.590319",
   "version": "2.4.0"
  }
 },
 "nbformat": 4,
 "nbformat_minor": 5
}
