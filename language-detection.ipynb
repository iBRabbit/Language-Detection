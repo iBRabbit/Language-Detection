{
 "cells": [
  {
   "cell_type": "code",
   "execution_count": 1,
   "id": "b64a102c",
   "metadata": {
    "execution": {
     "iopub.execute_input": "2023-05-20T20:44:46.148552Z",
     "iopub.status.busy": "2023-05-20T20:44:46.148091Z",
     "iopub.status.idle": "2023-05-20T20:44:47.087965Z",
     "shell.execute_reply": "2023-05-20T20:44:47.086487Z"
    },
    "papermill": {
     "duration": 0.956651,
     "end_time": "2023-05-20T20:44:47.092744",
     "exception": false,
     "start_time": "2023-05-20T20:44:46.136093",
     "status": "completed"
    },
    "tags": []
   },
   "outputs": [
    {
     "name": "stderr",
     "output_type": "stream",
     "text": [
      "/opt/conda/lib/python3.10/site-packages/scipy/__init__.py:146: UserWarning: A NumPy version >=1.16.5 and <1.23.0 is required for this version of SciPy (detected version 1.23.5\n",
      "  warnings.warn(f\"A NumPy version >={np_minversion} and <{np_maxversion}\"\n"
     ]
    }
   ],
   "source": [
    "import pandas as pd\n",
    "import numpy as np\n",
    "import matplotlib.pyplot as plt\n",
    "import re\n",
    "\n",
    "from sklearn.feature_extraction.text import CountVectorizer\n",
    "from sklearn.model_selection import train_test_split"
   ]
  },
  {
   "cell_type": "markdown",
   "id": "d74b1259",
   "metadata": {
    "papermill": {
     "duration": 0.014728,
     "end_time": "2023-05-20T20:44:47.122269",
     "exception": false,
     "start_time": "2023-05-20T20:44:47.107541",
     "status": "completed"
    },
    "tags": []
   },
   "source": [
    "Read the Dataset"
   ]
  },
  {
   "cell_type": "code",
   "execution_count": 2,
   "id": "ec6ad91e",
   "metadata": {
    "execution": {
     "iopub.execute_input": "2023-05-20T20:44:47.157629Z",
     "iopub.status.busy": "2023-05-20T20:44:47.157098Z",
     "iopub.status.idle": "2023-05-20T20:44:47.523032Z",
     "shell.execute_reply": "2023-05-20T20:44:47.522077Z"
    },
    "papermill": {
     "duration": 0.393647,
     "end_time": "2023-05-20T20:44:47.525794",
     "exception": false,
     "start_time": "2023-05-20T20:44:47.132147",
     "status": "completed"
    },
    "tags": []
   },
   "outputs": [],
   "source": [
    "url = 'https://raw.githubusercontent.com/basil-b2s/Language-Detector/master/language_detection.csv'\n",
    "df = pd.read_csv(url)"
   ]
  },
  {
   "cell_type": "code",
   "execution_count": 3,
   "id": "6f6e0102",
   "metadata": {
    "execution": {
     "iopub.execute_input": "2023-05-20T20:44:47.543878Z",
     "iopub.status.busy": "2023-05-20T20:44:47.543582Z",
     "iopub.status.idle": "2023-05-20T20:44:47.558969Z",
     "shell.execute_reply": "2023-05-20T20:44:47.558085Z"
    },
    "papermill": {
     "duration": 0.026728,
     "end_time": "2023-05-20T20:44:47.561053",
     "exception": false,
     "start_time": "2023-05-20T20:44:47.534325",
     "status": "completed"
    },
    "tags": []
   },
   "outputs": [
    {
     "data": {
      "text/html": [
       "<div>\n",
       "<style scoped>\n",
       "    .dataframe tbody tr th:only-of-type {\n",
       "        vertical-align: middle;\n",
       "    }\n",
       "\n",
       "    .dataframe tbody tr th {\n",
       "        vertical-align: top;\n",
       "    }\n",
       "\n",
       "    .dataframe thead th {\n",
       "        text-align: right;\n",
       "    }\n",
       "</style>\n",
       "<table border=\"1\" class=\"dataframe\">\n",
       "  <thead>\n",
       "    <tr style=\"text-align: right;\">\n",
       "      <th></th>\n",
       "      <th>Text</th>\n",
       "      <th>Language</th>\n",
       "    </tr>\n",
       "  </thead>\n",
       "  <tbody>\n",
       "    <tr>\n",
       "      <th>0</th>\n",
       "      <td>Nature, in the broadest sense, is the natural...</td>\n",
       "      <td>English</td>\n",
       "    </tr>\n",
       "    <tr>\n",
       "      <th>1</th>\n",
       "      <td>\"Nature\" can refer to the phenomena of the phy...</td>\n",
       "      <td>English</td>\n",
       "    </tr>\n",
       "    <tr>\n",
       "      <th>2</th>\n",
       "      <td>The study of nature is a large, if not the onl...</td>\n",
       "      <td>English</td>\n",
       "    </tr>\n",
       "    <tr>\n",
       "      <th>3</th>\n",
       "      <td>Although humans are part of nature, human acti...</td>\n",
       "      <td>English</td>\n",
       "    </tr>\n",
       "    <tr>\n",
       "      <th>4</th>\n",
       "      <td>[1] The word nature is borrowed from the Old F...</td>\n",
       "      <td>English</td>\n",
       "    </tr>\n",
       "  </tbody>\n",
       "</table>\n",
       "</div>"
      ],
      "text/plain": [
       "                                                Text Language\n",
       "0   Nature, in the broadest sense, is the natural...  English\n",
       "1  \"Nature\" can refer to the phenomena of the phy...  English\n",
       "2  The study of nature is a large, if not the onl...  English\n",
       "3  Although humans are part of nature, human acti...  English\n",
       "4  [1] The word nature is borrowed from the Old F...  English"
      ]
     },
     "execution_count": 3,
     "metadata": {},
     "output_type": "execute_result"
    }
   ],
   "source": [
    "df.head()"
   ]
  },
  {
   "cell_type": "markdown",
   "id": "927b78ea",
   "metadata": {
    "papermill": {
     "duration": 0.008309,
     "end_time": "2023-05-20T20:44:47.578019",
     "exception": false,
     "start_time": "2023-05-20T20:44:47.569710",
     "status": "completed"
    },
    "tags": []
   },
   "source": [
    "Data Exploration"
   ]
  },
  {
   "cell_type": "code",
   "execution_count": 4,
   "id": "1d59f061",
   "metadata": {
    "execution": {
     "iopub.execute_input": "2023-05-20T20:44:47.596076Z",
     "iopub.status.busy": "2023-05-20T20:44:47.595759Z",
     "iopub.status.idle": "2023-05-20T20:44:47.601629Z",
     "shell.execute_reply": "2023-05-20T20:44:47.600602Z"
    },
    "papermill": {
     "duration": 0.018108,
     "end_time": "2023-05-20T20:44:47.604594",
     "exception": false,
     "start_time": "2023-05-20T20:44:47.586486",
     "status": "completed"
    },
    "tags": []
   },
   "outputs": [
    {
     "data": {
      "text/plain": [
       "(10337, 2)"
      ]
     },
     "execution_count": 4,
     "metadata": {},
     "output_type": "execute_result"
    }
   ],
   "source": [
    "# Shape dari dataset\n",
    "df.shape"
   ]
  },
  {
   "cell_type": "code",
   "execution_count": 5,
   "id": "9c534ab6",
   "metadata": {
    "execution": {
     "iopub.execute_input": "2023-05-20T20:44:47.623060Z",
     "iopub.status.busy": "2023-05-20T20:44:47.622745Z",
     "iopub.status.idle": "2023-05-20T20:44:47.646661Z",
     "shell.execute_reply": "2023-05-20T20:44:47.645376Z"
    },
    "papermill": {
     "duration": 0.035491,
     "end_time": "2023-05-20T20:44:47.648653",
     "exception": false,
     "start_time": "2023-05-20T20:44:47.613162",
     "status": "completed"
    },
    "tags": []
   },
   "outputs": [
    {
     "name": "stdout",
     "output_type": "stream",
     "text": [
      "<class 'pandas.core.frame.DataFrame'>\n",
      "RangeIndex: 10337 entries, 0 to 10336\n",
      "Data columns (total 2 columns):\n",
      " #   Column    Non-Null Count  Dtype \n",
      "---  ------    --------------  ----- \n",
      " 0   Text      10337 non-null  object\n",
      " 1   Language  10337 non-null  object\n",
      "dtypes: object(2)\n",
      "memory usage: 161.6+ KB\n"
     ]
    }
   ],
   "source": [
    "# Melihat kolom yang ada\n",
    "df.info()"
   ]
  },
  {
   "cell_type": "code",
   "execution_count": 6,
   "id": "958ca898",
   "metadata": {
    "execution": {
     "iopub.execute_input": "2023-05-20T20:44:47.667293Z",
     "iopub.status.busy": "2023-05-20T20:44:47.667018Z",
     "iopub.status.idle": "2023-05-20T20:44:47.679653Z",
     "shell.execute_reply": "2023-05-20T20:44:47.678740Z"
    },
    "papermill": {
     "duration": 0.024234,
     "end_time": "2023-05-20T20:44:47.681639",
     "exception": false,
     "start_time": "2023-05-20T20:44:47.657405",
     "status": "completed"
    },
    "tags": []
   },
   "outputs": [
    {
     "data": {
      "text/plain": [
       "Text        0\n",
       "Language    0\n",
       "dtype: int64"
      ]
     },
     "execution_count": 6,
     "metadata": {},
     "output_type": "execute_result"
    }
   ],
   "source": [
    "# Melihat apakah ada data yang kosong\n",
    "df.isnull().sum()"
   ]
  },
  {
   "cell_type": "code",
   "execution_count": 7,
   "id": "02c05acd",
   "metadata": {
    "execution": {
     "iopub.execute_input": "2023-05-20T20:44:47.701571Z",
     "iopub.status.busy": "2023-05-20T20:44:47.700610Z",
     "iopub.status.idle": "2023-05-20T20:44:47.717947Z",
     "shell.execute_reply": "2023-05-20T20:44:47.716964Z"
    },
    "papermill": {
     "duration": 0.029412,
     "end_time": "2023-05-20T20:44:47.719929",
     "exception": false,
     "start_time": "2023-05-20T20:44:47.690517",
     "status": "completed"
    },
    "tags": []
   },
   "outputs": [
    {
     "data": {
      "text/plain": [
       "66"
      ]
     },
     "execution_count": 7,
     "metadata": {},
     "output_type": "execute_result"
    }
   ],
   "source": [
    "# Melihat apakah ada data yang duplikat\n",
    "df.duplicated().sum()"
   ]
  },
  {
   "cell_type": "code",
   "execution_count": 8,
   "id": "f13eaa91",
   "metadata": {
    "execution": {
     "iopub.execute_input": "2023-05-20T20:44:47.739655Z",
     "iopub.status.busy": "2023-05-20T20:44:47.738884Z",
     "iopub.status.idle": "2023-05-20T20:44:47.750814Z",
     "shell.execute_reply": "2023-05-20T20:44:47.749971Z"
    },
    "papermill": {
     "duration": 0.023963,
     "end_time": "2023-05-20T20:44:47.752793",
     "exception": false,
     "start_time": "2023-05-20T20:44:47.728830",
     "status": "completed"
    },
    "tags": []
   },
   "outputs": [],
   "source": [
    "# Menghapus data yang duplikat\n",
    "df.drop_duplicates(inplace=True)"
   ]
  },
  {
   "cell_type": "markdown",
   "id": "e13af89e",
   "metadata": {
    "papermill": {
     "duration": 0.008497,
     "end_time": "2023-05-20T20:44:47.770050",
     "exception": false,
     "start_time": "2023-05-20T20:44:47.761553",
     "status": "completed"
    },
    "tags": []
   },
   "source": [
    "Data setelah di preprocessing"
   ]
  },
  {
   "cell_type": "code",
   "execution_count": 9,
   "id": "ca5ab7db",
   "metadata": {
    "execution": {
     "iopub.execute_input": "2023-05-20T20:44:47.789128Z",
     "iopub.status.busy": "2023-05-20T20:44:47.788850Z",
     "iopub.status.idle": "2023-05-20T20:44:47.794571Z",
     "shell.execute_reply": "2023-05-20T20:44:47.793659Z"
    },
    "papermill": {
     "duration": 0.017321,
     "end_time": "2023-05-20T20:44:47.796509",
     "exception": false,
     "start_time": "2023-05-20T20:44:47.779188",
     "status": "completed"
    },
    "tags": []
   },
   "outputs": [
    {
     "data": {
      "text/plain": [
       "(10271, 2)"
      ]
     },
     "execution_count": 9,
     "metadata": {},
     "output_type": "execute_result"
    }
   ],
   "source": [
    "df.shape"
   ]
  },
  {
   "cell_type": "markdown",
   "id": "20d288a0",
   "metadata": {
    "papermill": {
     "duration": 0.008724,
     "end_time": "2023-05-20T20:44:47.814097",
     "exception": false,
     "start_time": "2023-05-20T20:44:47.805373",
     "status": "completed"
    },
    "tags": []
   },
   "source": [
    "Statistik Data"
   ]
  },
  {
   "cell_type": "code",
   "execution_count": 10,
   "id": "ed1e5cf5",
   "metadata": {
    "execution": {
     "iopub.execute_input": "2023-05-20T20:44:47.833866Z",
     "iopub.status.busy": "2023-05-20T20:44:47.833237Z",
     "iopub.status.idle": "2023-05-20T20:44:47.855178Z",
     "shell.execute_reply": "2023-05-20T20:44:47.854196Z"
    },
    "papermill": {
     "duration": 0.034257,
     "end_time": "2023-05-20T20:44:47.857401",
     "exception": false,
     "start_time": "2023-05-20T20:44:47.823144",
     "status": "completed"
    },
    "tags": []
   },
   "outputs": [
    {
     "data": {
      "text/html": [
       "<div>\n",
       "<style scoped>\n",
       "    .dataframe tbody tr th:only-of-type {\n",
       "        vertical-align: middle;\n",
       "    }\n",
       "\n",
       "    .dataframe tbody tr th {\n",
       "        vertical-align: top;\n",
       "    }\n",
       "\n",
       "    .dataframe thead th {\n",
       "        text-align: right;\n",
       "    }\n",
       "</style>\n",
       "<table border=\"1\" class=\"dataframe\">\n",
       "  <thead>\n",
       "    <tr style=\"text-align: right;\">\n",
       "      <th></th>\n",
       "      <th>Text</th>\n",
       "      <th>Language</th>\n",
       "    </tr>\n",
       "  </thead>\n",
       "  <tbody>\n",
       "    <tr>\n",
       "      <th>count</th>\n",
       "      <td>10271</td>\n",
       "      <td>10271</td>\n",
       "    </tr>\n",
       "    <tr>\n",
       "      <th>unique</th>\n",
       "      <td>10267</td>\n",
       "      <td>17</td>\n",
       "    </tr>\n",
       "    <tr>\n",
       "      <th>top</th>\n",
       "      <td>slår mig.</td>\n",
       "      <td>English</td>\n",
       "    </tr>\n",
       "    <tr>\n",
       "      <th>freq</th>\n",
       "      <td>2</td>\n",
       "      <td>1382</td>\n",
       "    </tr>\n",
       "  </tbody>\n",
       "</table>\n",
       "</div>"
      ],
      "text/plain": [
       "             Text Language\n",
       "count       10271    10271\n",
       "unique      10267       17\n",
       "top     slår mig.  English\n",
       "freq            2     1382"
      ]
     },
     "execution_count": 10,
     "metadata": {},
     "output_type": "execute_result"
    }
   ],
   "source": [
    "df.describe()"
   ]
  },
  {
   "cell_type": "code",
   "execution_count": 11,
   "id": "684f1310",
   "metadata": {
    "execution": {
     "iopub.execute_input": "2023-05-20T20:44:47.878270Z",
     "iopub.status.busy": "2023-05-20T20:44:47.877416Z",
     "iopub.status.idle": "2023-05-20T20:44:47.890478Z",
     "shell.execute_reply": "2023-05-20T20:44:47.889493Z"
    },
    "papermill": {
     "duration": 0.02555,
     "end_time": "2023-05-20T20:44:47.892609",
     "exception": false,
     "start_time": "2023-05-20T20:44:47.867059",
     "status": "completed"
    },
    "tags": []
   },
   "outputs": [
    {
     "data": {
      "text/html": [
       "<div>\n",
       "<style scoped>\n",
       "    .dataframe tbody tr th:only-of-type {\n",
       "        vertical-align: middle;\n",
       "    }\n",
       "\n",
       "    .dataframe tbody tr th {\n",
       "        vertical-align: top;\n",
       "    }\n",
       "\n",
       "    .dataframe thead th {\n",
       "        text-align: right;\n",
       "    }\n",
       "</style>\n",
       "<table border=\"1\" class=\"dataframe\">\n",
       "  <thead>\n",
       "    <tr style=\"text-align: right;\">\n",
       "      <th></th>\n",
       "      <th>Language</th>\n",
       "      <th>Count</th>\n",
       "    </tr>\n",
       "  </thead>\n",
       "  <tbody>\n",
       "    <tr>\n",
       "      <th>0</th>\n",
       "      <td>English</td>\n",
       "      <td>1382</td>\n",
       "    </tr>\n",
       "    <tr>\n",
       "      <th>1</th>\n",
       "      <td>French</td>\n",
       "      <td>1007</td>\n",
       "    </tr>\n",
       "    <tr>\n",
       "      <th>2</th>\n",
       "      <td>Spanish</td>\n",
       "      <td>816</td>\n",
       "    </tr>\n",
       "    <tr>\n",
       "      <th>3</th>\n",
       "      <td>Portugeese</td>\n",
       "      <td>736</td>\n",
       "    </tr>\n",
       "    <tr>\n",
       "      <th>4</th>\n",
       "      <td>Italian</td>\n",
       "      <td>694</td>\n",
       "    </tr>\n",
       "    <tr>\n",
       "      <th>5</th>\n",
       "      <td>Russian</td>\n",
       "      <td>688</td>\n",
       "    </tr>\n",
       "    <tr>\n",
       "      <th>6</th>\n",
       "      <td>Sweedish</td>\n",
       "      <td>673</td>\n",
       "    </tr>\n",
       "    <tr>\n",
       "      <th>7</th>\n",
       "      <td>Malayalam</td>\n",
       "      <td>591</td>\n",
       "    </tr>\n",
       "    <tr>\n",
       "      <th>8</th>\n",
       "      <td>Dutch</td>\n",
       "      <td>542</td>\n",
       "    </tr>\n",
       "    <tr>\n",
       "      <th>9</th>\n",
       "      <td>Arabic</td>\n",
       "      <td>532</td>\n",
       "    </tr>\n",
       "    <tr>\n",
       "      <th>10</th>\n",
       "      <td>Turkish</td>\n",
       "      <td>471</td>\n",
       "    </tr>\n",
       "    <tr>\n",
       "      <th>11</th>\n",
       "      <td>German</td>\n",
       "      <td>465</td>\n",
       "    </tr>\n",
       "    <tr>\n",
       "      <th>12</th>\n",
       "      <td>Tamil</td>\n",
       "      <td>464</td>\n",
       "    </tr>\n",
       "    <tr>\n",
       "      <th>13</th>\n",
       "      <td>Danish</td>\n",
       "      <td>424</td>\n",
       "    </tr>\n",
       "    <tr>\n",
       "      <th>14</th>\n",
       "      <td>Kannada</td>\n",
       "      <td>366</td>\n",
       "    </tr>\n",
       "    <tr>\n",
       "      <th>15</th>\n",
       "      <td>Greek</td>\n",
       "      <td>358</td>\n",
       "    </tr>\n",
       "    <tr>\n",
       "      <th>16</th>\n",
       "      <td>Hindi</td>\n",
       "      <td>62</td>\n",
       "    </tr>\n",
       "  </tbody>\n",
       "</table>\n",
       "</div>"
      ],
      "text/plain": [
       "      Language  Count\n",
       "0      English   1382\n",
       "1       French   1007\n",
       "2      Spanish    816\n",
       "3   Portugeese    736\n",
       "4      Italian    694\n",
       "5      Russian    688\n",
       "6     Sweedish    673\n",
       "7    Malayalam    591\n",
       "8        Dutch    542\n",
       "9       Arabic    532\n",
       "10     Turkish    471\n",
       "11      German    465\n",
       "12       Tamil    464\n",
       "13      Danish    424\n",
       "14     Kannada    366\n",
       "15       Greek    358\n",
       "16       Hindi     62"
      ]
     },
     "execution_count": 11,
     "metadata": {},
     "output_type": "execute_result"
    }
   ],
   "source": [
    "# Melihat distribusi persentase dari kolom Language\n",
    "data = df['Language'].value_counts().reset_index()\n",
    "data.columns = ['Language', 'Count']\n",
    "\n",
    "data"
   ]
  },
  {
   "cell_type": "code",
   "execution_count": 12,
   "id": "897c0341",
   "metadata": {
    "execution": {
     "iopub.execute_input": "2023-05-20T20:44:47.913688Z",
     "iopub.status.busy": "2023-05-20T20:44:47.912826Z",
     "iopub.status.idle": "2023-05-20T20:44:47.925980Z",
     "shell.execute_reply": "2023-05-20T20:44:47.924925Z"
    },
    "papermill": {
     "duration": 0.02558,
     "end_time": "2023-05-20T20:44:47.928107",
     "exception": false,
     "start_time": "2023-05-20T20:44:47.902527",
     "status": "completed"
    },
    "tags": []
   },
   "outputs": [
    {
     "data": {
      "text/html": [
       "<div>\n",
       "<style scoped>\n",
       "    .dataframe tbody tr th:only-of-type {\n",
       "        vertical-align: middle;\n",
       "    }\n",
       "\n",
       "    .dataframe tbody tr th {\n",
       "        vertical-align: top;\n",
       "    }\n",
       "\n",
       "    .dataframe thead th {\n",
       "        text-align: right;\n",
       "    }\n",
       "</style>\n",
       "<table border=\"1\" class=\"dataframe\">\n",
       "  <thead>\n",
       "    <tr style=\"text-align: right;\">\n",
       "      <th></th>\n",
       "      <th>Language</th>\n",
       "      <th>Count</th>\n",
       "      <th>Percentage</th>\n",
       "    </tr>\n",
       "  </thead>\n",
       "  <tbody>\n",
       "    <tr>\n",
       "      <th>0</th>\n",
       "      <td>English</td>\n",
       "      <td>1382</td>\n",
       "      <td>13.455360</td>\n",
       "    </tr>\n",
       "    <tr>\n",
       "      <th>1</th>\n",
       "      <td>French</td>\n",
       "      <td>1007</td>\n",
       "      <td>9.804303</td>\n",
       "    </tr>\n",
       "    <tr>\n",
       "      <th>2</th>\n",
       "      <td>Spanish</td>\n",
       "      <td>816</td>\n",
       "      <td>7.944699</td>\n",
       "    </tr>\n",
       "    <tr>\n",
       "      <th>3</th>\n",
       "      <td>Portugeese</td>\n",
       "      <td>736</td>\n",
       "      <td>7.165807</td>\n",
       "    </tr>\n",
       "    <tr>\n",
       "      <th>4</th>\n",
       "      <td>Italian</td>\n",
       "      <td>694</td>\n",
       "      <td>6.756888</td>\n",
       "    </tr>\n",
       "    <tr>\n",
       "      <th>5</th>\n",
       "      <td>Russian</td>\n",
       "      <td>688</td>\n",
       "      <td>6.698471</td>\n",
       "    </tr>\n",
       "    <tr>\n",
       "      <th>6</th>\n",
       "      <td>Sweedish</td>\n",
       "      <td>673</td>\n",
       "      <td>6.552429</td>\n",
       "    </tr>\n",
       "    <tr>\n",
       "      <th>7</th>\n",
       "      <td>Malayalam</td>\n",
       "      <td>591</td>\n",
       "      <td>5.754065</td>\n",
       "    </tr>\n",
       "    <tr>\n",
       "      <th>8</th>\n",
       "      <td>Dutch</td>\n",
       "      <td>542</td>\n",
       "      <td>5.276993</td>\n",
       "    </tr>\n",
       "    <tr>\n",
       "      <th>9</th>\n",
       "      <td>Arabic</td>\n",
       "      <td>532</td>\n",
       "      <td>5.179632</td>\n",
       "    </tr>\n",
       "    <tr>\n",
       "      <th>10</th>\n",
       "      <td>Turkish</td>\n",
       "      <td>471</td>\n",
       "      <td>4.585727</td>\n",
       "    </tr>\n",
       "    <tr>\n",
       "      <th>11</th>\n",
       "      <td>German</td>\n",
       "      <td>465</td>\n",
       "      <td>4.527310</td>\n",
       "    </tr>\n",
       "    <tr>\n",
       "      <th>12</th>\n",
       "      <td>Tamil</td>\n",
       "      <td>464</td>\n",
       "      <td>4.517574</td>\n",
       "    </tr>\n",
       "    <tr>\n",
       "      <th>13</th>\n",
       "      <td>Danish</td>\n",
       "      <td>424</td>\n",
       "      <td>4.128128</td>\n",
       "    </tr>\n",
       "    <tr>\n",
       "      <th>14</th>\n",
       "      <td>Kannada</td>\n",
       "      <td>366</td>\n",
       "      <td>3.563431</td>\n",
       "    </tr>\n",
       "    <tr>\n",
       "      <th>15</th>\n",
       "      <td>Greek</td>\n",
       "      <td>358</td>\n",
       "      <td>3.485542</td>\n",
       "    </tr>\n",
       "    <tr>\n",
       "      <th>16</th>\n",
       "      <td>Hindi</td>\n",
       "      <td>62</td>\n",
       "      <td>0.603641</td>\n",
       "    </tr>\n",
       "  </tbody>\n",
       "</table>\n",
       "</div>"
      ],
      "text/plain": [
       "      Language  Count  Percentage\n",
       "0      English   1382   13.455360\n",
       "1       French   1007    9.804303\n",
       "2      Spanish    816    7.944699\n",
       "3   Portugeese    736    7.165807\n",
       "4      Italian    694    6.756888\n",
       "5      Russian    688    6.698471\n",
       "6     Sweedish    673    6.552429\n",
       "7    Malayalam    591    5.754065\n",
       "8        Dutch    542    5.276993\n",
       "9       Arabic    532    5.179632\n",
       "10     Turkish    471    4.585727\n",
       "11      German    465    4.527310\n",
       "12       Tamil    464    4.517574\n",
       "13      Danish    424    4.128128\n",
       "14     Kannada    366    3.563431\n",
       "15       Greek    358    3.485542\n",
       "16       Hindi     62    0.603641"
      ]
     },
     "execution_count": 12,
     "metadata": {},
     "output_type": "execute_result"
    }
   ],
   "source": [
    "data['Percentage'] = data['Count'].apply(lambda x: 100*x/sum(data['Count']))\n",
    "data"
   ]
  },
  {
   "cell_type": "code",
   "execution_count": 13,
   "id": "0ae70b4f",
   "metadata": {
    "execution": {
     "iopub.execute_input": "2023-05-20T20:44:47.950054Z",
     "iopub.status.busy": "2023-05-20T20:44:47.949523Z",
     "iopub.status.idle": "2023-05-20T20:44:48.311258Z",
     "shell.execute_reply": "2023-05-20T20:44:48.310374Z"
    },
    "papermill": {
     "duration": 0.375139,
     "end_time": "2023-05-20T20:44:48.313542",
     "exception": false,
     "start_time": "2023-05-20T20:44:47.938403",
     "status": "completed"
    },
    "tags": []
   },
   "outputs": [
    {
     "data": {
      "image/png": "[encoded data removed]",
      "text/plain": [
       "<Figure size 1000x1000 with 1 Axes>"
      ]
     },
     "metadata": {},
     "output_type": "display_data"
    }
   ],
   "source": [
    "# Plot distribusi persentase dari kolom Language dalam bar chart\n",
    "plt.figure(figsize=(10, 10))\n",
    "plt.bar(data['Language'], data['Percentage'])\n",
    "plt.title('Language Distribution', fontsize=20)\n",
    "plt.xlabel('Language', fontsize=15)\n",
    "plt.ylabel('Percentage', fontsize=15)\n",
    "plt.xticks(rotation=90)\n",
    "plt.show()"
   ]
  },
  {
   "cell_type": "markdown",
   "id": "4a6ef430",
   "metadata": {
    "papermill": {
     "duration": 0.011101,
     "end_time": "2023-05-20T20:44:48.336102",
     "exception": false,
     "start_time": "2023-05-20T20:44:48.325001",
     "status": "completed"
    },
    "tags": []
   },
   "source": [
    "Data terbanyak adalah data berbahasa English"
   ]
  },
  {
   "cell_type": "markdown",
   "id": "3c43c69a",
   "metadata": {
    "papermill": {
     "duration": 0.011189,
     "end_time": "2023-05-20T20:44:48.358309",
     "exception": false,
     "start_time": "2023-05-20T20:44:48.347120",
     "status": "completed"
    },
    "tags": []
   },
   "source": [
    "### Text Processing"
   ]
  },
  {
   "cell_type": "markdown",
   "id": "ba455958",
   "metadata": {
    "papermill": {
     "duration": 0.010553,
     "end_time": "2023-05-20T20:44:48.379973",
     "exception": false,
     "start_time": "2023-05-20T20:44:48.369420",
     "status": "completed"
    },
    "tags": []
   },
   "source": [
    "Bersihkan data dari karakter yang tidak diperlukan"
   ]
  },
  {
   "cell_type": "code",
   "execution_count": 14,
   "id": "8581c4c1",
   "metadata": {
    "execution": {
     "iopub.execute_input": "2023-05-20T20:44:48.402418Z",
     "iopub.status.busy": "2023-05-20T20:44:48.401346Z",
     "iopub.status.idle": "2023-05-20T20:44:48.672625Z",
     "shell.execute_reply": "2023-05-20T20:44:48.671727Z"
    },
    "papermill": {
     "duration": 0.284911,
     "end_time": "2023-05-20T20:44:48.675033",
     "exception": false,
     "start_time": "2023-05-20T20:44:48.390122",
     "status": "completed"
    },
    "tags": []
   },
   "outputs": [],
   "source": [
    "import string \n",
    "def remove_unwanted_char(text):\n",
    "    text = re.sub(r'\\d+', '', text)\n",
    "    text = [i for i in text if i not in string.punctuation]\n",
    "    text = ''.join(text)\n",
    "    text = text.lower()\n",
    "    return text\n",
    "\n",
    "df['cleaned_text'] = df['Text'].apply(lambda x: remove_unwanted_char(x))"
   ]
  },
  {
   "cell_type": "code",
   "execution_count": 15,
   "id": "9506f21d",
   "metadata": {
    "execution": {
     "iopub.execute_input": "2023-05-20T20:44:48.697569Z",
     "iopub.status.busy": "2023-05-20T20:44:48.696733Z",
     "iopub.status.idle": "2023-05-20T20:44:48.709099Z",
     "shell.execute_reply": "2023-05-20T20:44:48.708020Z"
    },
    "papermill": {
     "duration": 0.026191,
     "end_time": "2023-05-20T20:44:48.711748",
     "exception": false,
     "start_time": "2023-05-20T20:44:48.685557",
     "status": "completed"
    },
    "tags": []
   },
   "outputs": [
    {
     "data": {
      "text/html": [
       "<div>\n",
       "<style scoped>\n",
       "    .dataframe tbody tr th:only-of-type {\n",
       "        vertical-align: middle;\n",
       "    }\n",
       "\n",
       "    .dataframe tbody tr th {\n",
       "        vertical-align: top;\n",
       "    }\n",
       "\n",
       "    .dataframe thead th {\n",
       "        text-align: right;\n",
       "    }\n",
       "</style>\n",
       "<table border=\"1\" class=\"dataframe\">\n",
       "  <thead>\n",
       "    <tr style=\"text-align: right;\">\n",
       "      <th></th>\n",
       "      <th>Text</th>\n",
       "      <th>Language</th>\n",
       "      <th>cleaned_text</th>\n",
       "    </tr>\n",
       "  </thead>\n",
       "  <tbody>\n",
       "    <tr>\n",
       "      <th>0</th>\n",
       "      <td>Nature, in the broadest sense, is the natural...</td>\n",
       "      <td>English</td>\n",
       "      <td>nature in the broadest sense is the natural p...</td>\n",
       "    </tr>\n",
       "    <tr>\n",
       "      <th>1</th>\n",
       "      <td>\"Nature\" can refer to the phenomena of the phy...</td>\n",
       "      <td>English</td>\n",
       "      <td>nature can refer to the phenomena of the physi...</td>\n",
       "    </tr>\n",
       "    <tr>\n",
       "      <th>2</th>\n",
       "      <td>The study of nature is a large, if not the onl...</td>\n",
       "      <td>English</td>\n",
       "      <td>the study of nature is a large if not the only...</td>\n",
       "    </tr>\n",
       "    <tr>\n",
       "      <th>3</th>\n",
       "      <td>Although humans are part of nature, human acti...</td>\n",
       "      <td>English</td>\n",
       "      <td>although humans are part of nature human activ...</td>\n",
       "    </tr>\n",
       "    <tr>\n",
       "      <th>4</th>\n",
       "      <td>[1] The word nature is borrowed from the Old F...</td>\n",
       "      <td>English</td>\n",
       "      <td>the word nature is borrowed from the old fren...</td>\n",
       "    </tr>\n",
       "    <tr>\n",
       "      <th>...</th>\n",
       "      <td>...</td>\n",
       "      <td>...</td>\n",
       "      <td>...</td>\n",
       "    </tr>\n",
       "    <tr>\n",
       "      <th>10332</th>\n",
       "      <td>ನಿಮ್ಮ ತಪ್ಪು ಏನು ಬಂದಿದೆಯೆಂದರೆ ಆ ದಿನದಿಂದ ನಿಮಗೆ ಒ...</td>\n",
       "      <td>Kannada</td>\n",
       "      <td>ನಿಮ್ಮ ತಪ್ಪು ಏನು ಬಂದಿದೆಯೆಂದರೆ ಆ ದಿನದಿಂದ ನಿಮಗೆ ಒ...</td>\n",
       "    </tr>\n",
       "    <tr>\n",
       "      <th>10333</th>\n",
       "      <td>ನಾರ್ಸಿಸಾ ತಾನು ಮೊದಲಿಗೆ ಹೆಣಗಾಡುತ್ತಿದ್ದ ಮಾರ್ಗಗಳನ್...</td>\n",
       "      <td>Kannada</td>\n",
       "      <td>ನಾರ್ಸಿಸಾ ತಾನು ಮೊದಲಿಗೆ ಹೆಣಗಾಡುತ್ತಿದ್ದ ಮಾರ್ಗಗಳನ್...</td>\n",
       "    </tr>\n",
       "    <tr>\n",
       "      <th>10334</th>\n",
       "      <td>ಹೇಗೆ ' ನಾರ್ಸಿಸಿಸಮ್ ಈಗ ಮರಿಯನ್ ಅವರಿಗೆ ಸಂಭವಿಸಿದ ಎ...</td>\n",
       "      <td>Kannada</td>\n",
       "      <td>ಹೇಗೆ  ನಾರ್ಸಿಸಿಸಮ್ ಈಗ ಮರಿಯನ್ ಅವರಿಗೆ ಸಂಭವಿಸಿದ ಎಲ...</td>\n",
       "    </tr>\n",
       "    <tr>\n",
       "      <th>10335</th>\n",
       "      <td>ಅವಳು ಈಗ ಹೆಚ್ಚು ಚಿನ್ನದ ಬ್ರೆಡ್ ಬಯಸುವುದಿಲ್ಲ ಎಂದು ...</td>\n",
       "      <td>Kannada</td>\n",
       "      <td>ಅವಳು ಈಗ ಹೆಚ್ಚು ಚಿನ್ನದ ಬ್ರೆಡ್ ಬಯಸುವುದಿಲ್ಲ ಎಂದು ...</td>\n",
       "    </tr>\n",
       "    <tr>\n",
       "      <th>10336</th>\n",
       "      <td>ಟೆರ್ರಿ ನೀವು ನಿಜವಾಗಿಯೂ ಆ ದೇವದೂತನಂತೆ ಸ್ವಲ್ಪ ಕಾಣು...</td>\n",
       "      <td>Kannada</td>\n",
       "      <td>ಟೆರ್ರಿ ನೀವು ನಿಜವಾಗಿಯೂ ಆ ದೇವದೂತನಂತೆ ಸ್ವಲ್ಪ ಕಾಣು...</td>\n",
       "    </tr>\n",
       "  </tbody>\n",
       "</table>\n",
       "<p>10271 rows × 3 columns</p>\n",
       "</div>"
      ],
      "text/plain": [
       "                                                    Text Language  \\\n",
       "0       Nature, in the broadest sense, is the natural...  English   \n",
       "1      \"Nature\" can refer to the phenomena of the phy...  English   \n",
       "2      The study of nature is a large, if not the onl...  English   \n",
       "3      Although humans are part of nature, human acti...  English   \n",
       "4      [1] The word nature is borrowed from the Old F...  English   \n",
       "...                                                  ...      ...   \n",
       "10332  ನಿಮ್ಮ ತಪ್ಪು ಏನು ಬಂದಿದೆಯೆಂದರೆ ಆ ದಿನದಿಂದ ನಿಮಗೆ ಒ...  Kannada   \n",
       "10333  ನಾರ್ಸಿಸಾ ತಾನು ಮೊದಲಿಗೆ ಹೆಣಗಾಡುತ್ತಿದ್ದ ಮಾರ್ಗಗಳನ್...  Kannada   \n",
       "10334  ಹೇಗೆ ' ನಾರ್ಸಿಸಿಸಮ್ ಈಗ ಮರಿಯನ್ ಅವರಿಗೆ ಸಂಭವಿಸಿದ ಎ...  Kannada   \n",
       "10335  ಅವಳು ಈಗ ಹೆಚ್ಚು ಚಿನ್ನದ ಬ್ರೆಡ್ ಬಯಸುವುದಿಲ್ಲ ಎಂದು ...  Kannada   \n",
       "10336  ಟೆರ್ರಿ ನೀವು ನಿಜವಾಗಿಯೂ ಆ ದೇವದೂತನಂತೆ ಸ್ವಲ್ಪ ಕಾಣು...  Kannada   \n",
       "\n",
       "                                            cleaned_text  \n",
       "0       nature in the broadest sense is the natural p...  \n",
       "1      nature can refer to the phenomena of the physi...  \n",
       "2      the study of nature is a large if not the only...  \n",
       "3      although humans are part of nature human activ...  \n",
       "4       the word nature is borrowed from the old fren...  \n",
       "...                                                  ...  \n",
       "10332  ನಿಮ್ಮ ತಪ್ಪು ಏನು ಬಂದಿದೆಯೆಂದರೆ ಆ ದಿನದಿಂದ ನಿಮಗೆ ಒ...  \n",
       "10333  ನಾರ್ಸಿಸಾ ತಾನು ಮೊದಲಿಗೆ ಹೆಣಗಾಡುತ್ತಿದ್ದ ಮಾರ್ಗಗಳನ್...  \n",
       "10334  ಹೇಗೆ  ನಾರ್ಸಿಸಿಸಮ್ ಈಗ ಮರಿಯನ್ ಅವರಿಗೆ ಸಂಭವಿಸಿದ ಎಲ...  \n",
       "10335  ಅವಳು ಈಗ ಹೆಚ್ಚು ಚಿನ್ನದ ಬ್ರೆಡ್ ಬಯಸುವುದಿಲ್ಲ ಎಂದು ...  \n",
       "10336  ಟೆರ್ರಿ ನೀವು ನಿಜವಾಗಿಯೂ ಆ ದೇವದೂತನಂತೆ ಸ್ವಲ್ಪ ಕಾಣು...  \n",
       "\n",
       "[10271 rows x 3 columns]"
      ]
     },
     "execution_count": 15,
     "metadata": {},
     "output_type": "execute_result"
    }
   ],
   "source": [
    "df"
   ]
  },
  {
   "cell_type": "code",
   "execution_count": 16,
   "id": "39681947",
   "metadata": {
    "execution": {
     "iopub.execute_input": "2023-05-20T20:44:48.734834Z",
     "iopub.status.busy": "2023-05-20T20:44:48.734073Z",
     "iopub.status.idle": "2023-05-20T20:44:48.738730Z",
     "shell.execute_reply": "2023-05-20T20:44:48.737935Z"
    },
    "papermill": {
     "duration": 0.018072,
     "end_time": "2023-05-20T20:44:48.740647",
     "exception": false,
     "start_time": "2023-05-20T20:44:48.722575",
     "status": "completed"
    },
    "tags": []
   },
   "outputs": [],
   "source": [
    "X = df['cleaned_text']\n",
    "y = df['Language']"
   ]
  },
  {
   "cell_type": "code",
   "execution_count": 17,
   "id": "f27eb8b2",
   "metadata": {
    "execution": {
     "iopub.execute_input": "2023-05-20T20:44:48.764422Z",
     "iopub.status.busy": "2023-05-20T20:44:48.762614Z",
     "iopub.status.idle": "2023-05-20T20:44:48.770796Z",
     "shell.execute_reply": "2023-05-20T20:44:48.769954Z"
    },
    "papermill": {
     "duration": 0.021714,
     "end_time": "2023-05-20T20:44:48.772748",
     "exception": false,
     "start_time": "2023-05-20T20:44:48.751034",
     "status": "completed"
    },
    "tags": []
   },
   "outputs": [],
   "source": [
    "from sklearn.preprocessing import LabelEncoder\n",
    "le = LabelEncoder()\n",
    "y = le.fit_transform(y)"
   ]
  },
  {
   "cell_type": "markdown",
   "id": "b9cab18a",
   "metadata": {
    "papermill": {
     "duration": 0.010338,
     "end_time": "2023-05-20T20:44:48.793860",
     "exception": false,
     "start_time": "2023-05-20T20:44:48.783522",
     "status": "completed"
    },
    "tags": []
   },
   "source": [
    "### Bag of Words"
   ]
  },
  {
   "cell_type": "code",
   "execution_count": 18,
   "id": "139ad7e2",
   "metadata": {
    "execution": {
     "iopub.execute_input": "2023-05-20T20:44:48.817745Z",
     "iopub.status.busy": "2023-05-20T20:44:48.816853Z",
     "iopub.status.idle": "2023-05-20T20:44:49.403560Z",
     "shell.execute_reply": "2023-05-20T20:44:49.402501Z"
    },
    "papermill": {
     "duration": 0.601168,
     "end_time": "2023-05-20T20:44:49.406134",
     "exception": false,
     "start_time": "2023-05-20T20:44:48.804966",
     "status": "completed"
    },
    "tags": []
   },
   "outputs": [],
   "source": [
    "cv = CountVectorizer(stop_words='english')\n",
    "X = cv.fit_transform(df['cleaned_text']).toarray()"
   ]
  },
  {
   "cell_type": "code",
   "execution_count": 19,
   "id": "9f28325e",
   "metadata": {
    "execution": {
     "iopub.execute_input": "2023-05-20T20:44:49.430121Z",
     "iopub.status.busy": "2023-05-20T20:44:49.429758Z",
     "iopub.status.idle": "2023-05-20T20:44:49.435370Z",
     "shell.execute_reply": "2023-05-20T20:44:49.434498Z"
    },
    "papermill": {
     "duration": 0.019762,
     "end_time": "2023-05-20T20:44:49.437290",
     "exception": false,
     "start_time": "2023-05-20T20:44:49.417528",
     "status": "completed"
    },
    "tags": []
   },
   "outputs": [
    {
     "data": {
      "text/plain": [
       "(10271, 39928)"
      ]
     },
     "execution_count": 19,
     "metadata": {},
     "output_type": "execute_result"
    }
   ],
   "source": [
    "X.shape"
   ]
  },
  {
   "cell_type": "markdown",
   "id": "701f58d4",
   "metadata": {
    "papermill": {
     "duration": 0.0104,
     "end_time": "2023-05-20T20:44:49.458740",
     "exception": false,
     "start_time": "2023-05-20T20:44:49.448340",
     "status": "completed"
    },
    "tags": []
   },
   "source": [
    "### Train Test Split"
   ]
  },
  {
   "cell_type": "code",
   "execution_count": 20,
   "id": "07ebe6bf",
   "metadata": {
    "execution": {
     "iopub.execute_input": "2023-05-20T20:44:49.482004Z",
     "iopub.status.busy": "2023-05-20T20:44:49.481225Z",
     "iopub.status.idle": "2023-05-20T20:44:51.242659Z",
     "shell.execute_reply": "2023-05-20T20:44:51.241493Z"
    },
    "papermill": {
     "duration": 1.775397,
     "end_time": "2023-05-20T20:44:51.245205",
     "exception": false,
     "start_time": "2023-05-20T20:44:49.469808",
     "status": "completed"
    },
    "tags": []
   },
   "outputs": [],
   "source": [
    "x_train, x_test, y_train, y_test = train_test_split(X, y, test_size=0.2, random_state=42)"
   ]
  },
  {
   "cell_type": "code",
   "execution_count": 21,
   "id": "d774618b",
   "metadata": {
    "execution": {
     "iopub.execute_input": "2023-05-20T20:44:51.272615Z",
     "iopub.status.busy": "2023-05-20T20:44:51.272238Z",
     "iopub.status.idle": "2023-05-20T20:44:51.277687Z",
     "shell.execute_reply": "2023-05-20T20:44:51.276798Z"
    },
    "papermill": {
     "duration": 0.021737,
     "end_time": "2023-05-20T20:44:51.280241",
     "exception": false,
     "start_time": "2023-05-20T20:44:51.258504",
     "status": "completed"
    },
    "tags": []
   },
   "outputs": [
    {
     "name": "stdout",
     "output_type": "stream",
     "text": [
      "x train shape: (8216, 39928)\n",
      "x test shape: (2055, 39928)\n",
      "y train shape: (8216,)\n",
      "y test shape: (2055,)\n"
     ]
    }
   ],
   "source": [
    "print(f\"x train shape: {x_train.shape}\")\n",
    "print(f\"x test shape: {x_test.shape}\")\n",
    "print(f\"y train shape: {y_train.shape}\")\n",
    "print(f\"y test shape: {y_test.shape}\")\n"
   ]
  },
  {
   "cell_type": "markdown",
   "id": "e51a005f",
   "metadata": {
    "papermill": {
     "duration": 0.010411,
     "end_time": "2023-05-20T20:44:51.301875",
     "exception": false,
     "start_time": "2023-05-20T20:44:51.291464",
     "status": "completed"
    },
    "tags": []
   },
   "source": [
    "### Models"
   ]
  },
  {
   "cell_type": "markdown",
   "id": "283b0936",
   "metadata": {
    "papermill": {
     "duration": 0.010636,
     "end_time": "2023-05-20T20:44:51.323527",
     "exception": false,
     "start_time": "2023-05-20T20:44:51.312891",
     "status": "completed"
    },
    "tags": []
   },
   "source": [
    "Random Forest"
   ]
  },
  {
   "cell_type": "code",
   "execution_count": 22,
   "id": "8d74292c",
   "metadata": {
    "execution": {
     "iopub.execute_input": "2023-05-20T20:44:51.346570Z",
     "iopub.status.busy": "2023-05-20T20:44:51.346205Z",
     "iopub.status.idle": "2023-05-20T20:44:51.633889Z",
     "shell.execute_reply": "2023-05-20T20:44:51.632943Z"
    },
    "papermill": {
     "duration": 0.302171,
     "end_time": "2023-05-20T20:44:51.636310",
     "exception": false,
     "start_time": "2023-05-20T20:44:51.334139",
     "status": "completed"
    },
    "tags": []
   },
   "outputs": [],
   "source": [
    "from sklearn.naive_bayes import MultinomialNB\n",
    "from sklearn.ensemble import RandomForestClassifier\n",
    "from sklearn.svm import SVC\n",
    "from sklearn.neighbors import KNeighborsClassifier\n",
    "from sklearn.metrics import accuracy_score, confusion_matrix, classification_report\n",
    "\n"
   ]
  },
  {
   "cell_type": "code",
   "execution_count": 23,
   "id": "5e83dae4",
   "metadata": {
    "execution": {
     "iopub.execute_input": "2023-05-20T20:44:51.660359Z",
     "iopub.status.busy": "2023-05-20T20:44:51.659567Z",
     "iopub.status.idle": "2023-05-20T20:47:44.777942Z",
     "shell.execute_reply": "2023-05-20T20:47:44.776411Z"
    },
    "papermill": {
     "duration": 173.132316,
     "end_time": "2023-05-20T20:47:44.780070",
     "exception": false,
     "start_time": "2023-05-20T20:44:51.647754",
     "status": "completed"
    },
    "tags": []
   },
   "outputs": [
    {
     "name": "stdout",
     "output_type": "stream",
     "text": [
      "Training model: MultinomialNB\n",
      "Accuracy score: 0.9761557177615572\n",
      "Training model: RandomForestClassifier\n",
      "Accuracy score: 0.9172749391727494\n",
      "Training model: KNeighborsClassifier\n",
      "Accuracy score: 0.4705596107055961\n"
     ]
    }
   ],
   "source": [
    "models = {\n",
    "    'MultinomialNB': MultinomialNB(),\n",
    "    'RandomForestClassifier': RandomForestClassifier(),\n",
    "    'KNeighborsClassifier': KNeighborsClassifier()\n",
    "}\n",
    "\n",
    "def train_test_model(model, x_train, x_test, y_train, y_test):\n",
    "    model.fit(x_train, y_train)\n",
    "    y_pred = model.predict(x_test)\n",
    "    print(f\"Accuracy score: {accuracy_score(y_test, y_pred)}\")\n",
    "    \n",
    "for name, model in models.items():\n",
    "    print(f\"Training model: {name}\")\n",
    "    train_test_model(model, x_train, x_test, y_train, y_test)\n"
   ]
  },
  {
   "cell_type": "code",
   "execution_count": 24,
   "id": "d6ebe0ae",
   "metadata": {
    "execution": {
     "iopub.execute_input": "2023-05-20T20:47:44.803544Z",
     "iopub.status.busy": "2023-05-20T20:47:44.803234Z",
     "iopub.status.idle": "2023-05-20T20:47:51.064012Z",
     "shell.execute_reply": "2023-05-20T20:47:51.059964Z"
    },
    "papermill": {
     "duration": 6.276667,
     "end_time": "2023-05-20T20:47:51.067967",
     "exception": false,
     "start_time": "2023-05-20T20:47:44.791300",
     "status": "completed"
    },
    "tags": []
   },
   "outputs": [
    {
     "name": "stdout",
     "output_type": "stream",
     "text": [
      "Model: MultinomialNB\n",
      "Prediction for I am you : English\n",
      "Prediction for Ciao mondo : Italian\n",
      "Prediction for Olá Mundo : Portugeese\n",
      "Prediction for Gracias ablas e  : Spanish\n",
      "\n",
      "Model: RandomForestClassifier\n",
      "Prediction for I am you : Kannada\n",
      "Prediction for Ciao mondo : Kannada\n",
      "Prediction for Olá Mundo : Kannada\n",
      "Prediction for Gracias ablas e  : Spanish\n",
      "\n",
      "Model: KNeighborsClassifier\n",
      "Prediction for I am you : Kannada\n",
      "Prediction for Ciao mondo : Kannada\n",
      "Prediction for Olá Mundo : Kannada\n",
      "Prediction for Gracias ablas e  : Kannada\n",
      "\n"
     ]
    }
   ],
   "source": [
    "def predict(model, text):\n",
    "    x = cv.transform([text]).toarray()\n",
    "    lang = model.predict(x)\n",
    "    lang = le.inverse_transform(lang)\n",
    "    return lang[0]\n",
    "\n",
    "text_english = \"I am you\"\n",
    "text_italian = \"Ciao mondo\"\n",
    "text_portugesse = \"Olá Mundo\"\n",
    "\n",
    "texts = [\n",
    "    \"I am you\",\n",
    "    \"Ciao mondo\",\n",
    "    \"Olá Mundo\",\n",
    "    \"Gracias ablas e \"\n",
    "]\n",
    "\n",
    "for name, model in models.items():\n",
    "    print(f\"Model: {name}\")\n",
    "    for text in texts :    \n",
    "        print(f\"Prediction for {text} : {predict(model, text)}\")\n",
    "    print(\"\")\n",
    "    "
   ]
  }
 ],
 "metadata": {
  "kernelspec": {
   "display_name": "Python 3",
   "language": "python",
   "name": "python3"
  },
  "language_info": {
   "codemirror_mode": {
    "name": "ipython",
    "version": 3
   },
   "file_extension": ".py",
   "mimetype": "text/x-python",
   "name": "python",
   "nbconvert_exporter": "python",
   "pygments_lexer": "ipython3",
   "version": "3.10.10"
  },
  "papermill": {
   "default_parameters": {},
   "duration": 196.294076,
   "end_time": "2023-05-20T20:47:52.018145",
   "environment_variables": {},
   "exception": null,
   "input_path": "__notebook__.ipynb",
   "output_path": "__notebook__.ipynb",
   "parameters": {},
   "start_time": "2023-05-20T20:44:35.724069",
   "version": "2.4.0"
  }
 },
 "nbformat": 4,
 "nbformat_minor": 5
}
